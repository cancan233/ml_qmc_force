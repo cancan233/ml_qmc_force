{
 "cells": [
  {
   "cell_type": "code",
   "execution_count": 1,
   "metadata": {},
   "outputs": [],
   "source": [
    "from ase.io.trajectory import TrajectoryReader as tr\n",
    "import matplotlib.pyplot as plt \n",
    "import numpy as np"
   ]
  },
  {
   "cell_type": "code",
   "execution_count": 2,
   "metadata": {},
   "outputs": [
    {
     "name": "stdout",
     "output_type": "stream",
     "text": [
      "12001\n"
     ]
    }
   ],
   "source": [
    "traj_dft = tr(\"../data/dft/dft_pyscf_ase_force.traj\")\n",
    "traj_dmc = tr(\"../data/dmc/dmc_400blocks_set3.traj\")"
   ]
  },
  {
   "cell_type": "code",
   "execution_count": 3,
   "metadata": {},
   "outputs": [],
   "source": [
    "traj_dft_force = tr(\"../train/amptorch_dft_force/h2o_amptorch_dmc_train.traj\")\n",
    "traj_dft_noforce = tr(\"../train/amptorch_dft_noforce/h2o_amptorch_dmc_train.traj\")\n",
    "traj_dmc = tr(\"../train/amptorch_dmc/h2o_amptorch_dmc_train.traj\")"
   ]
  },
  {
   "cell_type": "code",
   "execution_count": 4,
   "metadata": {},
   "outputs": [],
   "source": [
    "def calc_force_mae(traj_1, traj_2):\n",
    "    mae = 0\n",
    "    for i in range(len(traj_1)):\n",
    "        mae += np.abs(traj_1[i].get_forces() - traj_2[i].get_forces()).mean()\n",
    "    return mae / len(traj_1)"
   ]
  },
  {
   "cell_type": "code",
   "execution_count": 5,
   "metadata": {},
   "outputs": [
    {
     "name": "stdout",
     "output_type": "stream",
     "text": [
      "0.8066818742455905\n"
     ]
    },
    {
     "ename": "ValueError",
     "evalue": "operands could not be broadcast together with shapes (3,3) (0,) ",
     "output_type": "error",
     "traceback": [
      "\u001b[0;31m---------------------------------------------------------------------------\u001b[0m",
      "\u001b[0;31mValueError\u001b[0m                                Traceback (most recent call last)",
      "\u001b[1;32m/Users/cancan/Dropbox (Brown)/000_Research/ML_DMC/examples/h2o_pyscf/notebooks_analysis/data_quality.ipynb Cell 5'\u001b[0m in \u001b[0;36m<cell line: 2>\u001b[0;34m()\u001b[0m\n\u001b[1;32m      <a href='vscode-notebook-cell:/Users/cancan/Dropbox%20%28Brown%29/000_Research/ML_DMC/examples/h2o_pyscf/notebooks_analysis/data_quality.ipynb#ch0000008?line=0'>1</a>\u001b[0m \u001b[39mprint\u001b[39m(calc_force_mae(traj_dft, traj_dft_force))\n\u001b[0;32m----> <a href='vscode-notebook-cell:/Users/cancan/Dropbox%20%28Brown%29/000_Research/ML_DMC/examples/h2o_pyscf/notebooks_analysis/data_quality.ipynb#ch0000008?line=1'>2</a>\u001b[0m \u001b[39mprint\u001b[39m(calc_force_mae(traj_dft, traj_dft_noforce))\n",
      "\u001b[1;32m/Users/cancan/Dropbox (Brown)/000_Research/ML_DMC/examples/h2o_pyscf/notebooks_analysis/data_quality.ipynb Cell 4'\u001b[0m in \u001b[0;36mcalc_force_mae\u001b[0;34m(traj_1, traj_2)\u001b[0m\n\u001b[1;32m      <a href='vscode-notebook-cell:/Users/cancan/Dropbox%20%28Brown%29/000_Research/ML_DMC/examples/h2o_pyscf/notebooks_analysis/data_quality.ipynb#ch0000007?line=1'>2</a>\u001b[0m mae \u001b[39m=\u001b[39m \u001b[39m0\u001b[39m\n\u001b[1;32m      <a href='vscode-notebook-cell:/Users/cancan/Dropbox%20%28Brown%29/000_Research/ML_DMC/examples/h2o_pyscf/notebooks_analysis/data_quality.ipynb#ch0000007?line=2'>3</a>\u001b[0m \u001b[39mfor\u001b[39;00m i \u001b[39min\u001b[39;00m \u001b[39mrange\u001b[39m(\u001b[39mlen\u001b[39m(traj_1)):\n\u001b[0;32m----> <a href='vscode-notebook-cell:/Users/cancan/Dropbox%20%28Brown%29/000_Research/ML_DMC/examples/h2o_pyscf/notebooks_analysis/data_quality.ipynb#ch0000007?line=3'>4</a>\u001b[0m     mae \u001b[39m+\u001b[39m\u001b[39m=\u001b[39m np\u001b[39m.\u001b[39mabs(traj_1[i]\u001b[39m.\u001b[39;49mget_forces() \u001b[39m-\u001b[39;49m traj_2[i]\u001b[39m.\u001b[39;49mget_forces())\u001b[39m.\u001b[39mmean()\n\u001b[1;32m      <a href='vscode-notebook-cell:/Users/cancan/Dropbox%20%28Brown%29/000_Research/ML_DMC/examples/h2o_pyscf/notebooks_analysis/data_quality.ipynb#ch0000007?line=4'>5</a>\u001b[0m \u001b[39mreturn\u001b[39;00m mae \u001b[39m/\u001b[39m \u001b[39mlen\u001b[39m(traj_1)\n",
      "\u001b[0;31mValueError\u001b[0m: operands could not be broadcast together with shapes (3,3) (0,) "
     ]
    }
   ],
   "source": [
    "print(calc_force_mae(traj_dft, traj_dft_force))\n",
    "print(calc_force_mae(traj_dft, traj_dft_noforce))"
   ]
  },
  {
   "cell_type": "code",
   "execution_count": 7,
   "metadata": {},
   "outputs": [
    {
     "data": {
      "text/plain": [
       "0.017196335638696776"
      ]
     },
     "execution_count": 7,
     "metadata": {},
     "output_type": "execute_result"
    }
   ],
   "source": [
    "uncertainty = []\n",
    "for image in data:\n",
    "    uncertainty.append(image.info[\"uncertainty\"])\n",
    "\n",
    "np.mean(uncertainty)"
   ]
  },
  {
   "cell_type": "code",
   "execution_count": 18,
   "metadata": {},
   "outputs": [
    {
     "name": "stdout",
     "output_type": "stream",
     "text": [
      "['0.6783', '0.7413', '0.8043', '0.8673', '0.9302', '0.9932', '1.0562', '1.1192', '1.1822', '1.2452', '1.3081', '1.3082', '1.3711', '1.4341', '1.4971', '1.5601', '1.6231', '1.6861', '1.7490', '1.8120', '1.8750']\n",
      "['100.20', '104.40', '108.60', '112.80', '117.00', '121.20', '125.40', '129.60', '133.80', '138.00', '142.20', '146.40', '150.60', '154.80', '159.00', '163.20', '167.40', '171.60', '175.80', '54.00', '58.20', '62.40', '66.60', '70.80', '75.00', '79.20', '83.40', '87.60', '91.80', '96.00']\n"
     ]
    }
   ],
   "source": [
    "oh1 = set()\n",
    "theta = set()\n",
    "for image in data[1:]:\n",
    "    oh1.add(\"{:.4f}\".format(image.get_distance(0,1)))\n",
    "    theta.add(\"{:.2f}\".format(image.get_angle(2,0,1)))\n",
    "print(sorted(list(oh1)))\n",
    "print(sorted(list(theta)))"
   ]
  },
  {
   "cell_type": "code",
   "execution_count": 19,
   "metadata": {},
   "outputs": [
    {
     "data": {
      "text/plain": [
       "<matplotlib.collections.PathCollection at 0x7fb9bcf00640>"
      ]
     },
     "execution_count": 19,
     "metadata": {},
     "output_type": "execute_result"
    },
    {
     "data": {
      "image/png": "[encoded data removed]",
      "text/plain": [
       "<Figure size 432x288 with 1 Axes>"
      ]
     },
     "metadata": {
      "needs_background": "light"
     },
     "output_type": "display_data"
    }
   ],
   "source": [
    "# check angle PES\n",
    "energies = []\n",
    "angles = []\n",
    "for image in data[1:]:\n",
    "    if \"{:.4f}\".format(image.get_distance(0, 1)) == \"0.9932\" and \"{:.4f}\".format(image.get_distance(0, 2)) == \"0.9932\":\n",
    "        angles.append(image.get_angle(2,0,1))\n",
    "        energies.append(image.get_potential_energy())\n",
    "plt.scatter(angles, energies)"
   ]
  },
  {
   "cell_type": "code",
   "execution_count": 20,
   "metadata": {},
   "outputs": [
    {
     "data": {
      "text/plain": [
       "<matplotlib.collections.PathCollection at 0x7fb9bcd42190>"
      ]
     },
     "execution_count": 20,
     "metadata": {},
     "output_type": "execute_result"
    },
    {
     "data": {
      "image/png": "[encoded data removed]",
      "text/plain": [
       "<Figure size 432x288 with 1 Axes>"
      ]
     },
     "metadata": {
      "needs_background": "light"
     },
     "output_type": "display_data"
    }
   ],
   "source": [
    "# check bond distance PES\n",
    "energies = []\n",
    "distances = []\n",
    "for image in data[1:]:\n",
    "    if \"{:.2f}\".format(image.get_angle(2, 0, 1)) == \"104.40\" and \"{:.4f}\".format(image.get_distance(0, 2)) == \"0.9302\":\n",
    "        distances.append(image.get_distance(0, 1))\n",
    "        energies.append(image.get_potential_energy())\n",
    "plt.scatter(distances, energies)"
   ]
  }
 ],
 "metadata": {
  "interpreter": {
   "hash": "c30f2af5f468e7f5b45bcc30fca5f4886c90d54777aed916ed5f6294dfb24bf2"
  },
  "kernelspec": {
   "display_name": "Python 3.9.5 ('base')",
   "language": "python",
   "name": "python3"
  },
  "language_info": {
   "codemirror_mode": {
    "name": "ipython",
    "version": 3
   },
   "file_extension": ".py",
   "mimetype": "text/x-python",
   "name": "python",
   "nbconvert_exporter": "python",
   "pygments_lexer": "ipython3",
   "version": "3.9.5"
  },
  "orig_nbformat": 4
 },
 "nbformat": 4,
 "nbformat_minor": 2
}
