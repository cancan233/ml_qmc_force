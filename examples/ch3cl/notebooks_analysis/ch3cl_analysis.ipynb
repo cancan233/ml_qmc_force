{
 "cells": [
  {
   "cell_type": "code",
   "execution_count": 4,
   "metadata": {},
   "outputs": [],
   "source": [
    "from ase.io.trajectory import TrajectoryReader as tr\n",
    "import numpy as np"
   ]
  },
  {
   "cell_type": "code",
   "execution_count": 8,
   "metadata": {},
   "outputs": [],
   "source": [
    "def calc_energy_mae(traj1, traj2):\n",
    "    \"\"\"\n",
    "    Calculate the mean absolute energy difference between two trajectories.\n",
    "    \"\"\"\n",
    "    energies1 = np.array([atom.get_potential_energy() for atom in traj1])\n",
    "    energies2 = np.array([atom.get_potential_energy() for atom in traj2])\n",
    "    return np.mean(np.abs(energies1 - energies2)) / 5\n",
    "\n",
    "def calc_force_rmse(traj1, traj2):\n",
    "    \"\"\"\n",
    "    Calculate the root mean squared force difference between two trajectories.\n",
    "    \"\"\"\n",
    "    forces1 = np.array([atom.get_forces() for atom in traj1])\n",
    "    forces2 = np.array([atom.get_forces() for atom in traj2])\n",
    "    return np.mean(np.abs(forces1 - forces2)) / 5"
   ]
  },
  {
   "cell_type": "code",
   "execution_count": 5,
   "metadata": {},
   "outputs": [],
   "source": [
    "train_data = tr(\"/Users/cancan/Dropbox (Brown)/000_Research/ML_DMC/examples/ch3cl/data/dft/dft_pyscf_ase_force.traj\")\n",
    "test_data = tr(\"/Users/cancan/Dropbox (Brown)/000_Research/ML_DMC/examples/ch3cl/data/test_dft_with_force.traj\")"
   ]
  },
  {
   "cell_type": "markdown",
   "metadata": {},
   "source": [
    "### AMPtorch-DFT with force"
   ]
  },
  {
   "cell_type": "code",
   "execution_count": 6,
   "metadata": {},
   "outputs": [],
   "source": [
    "amptorch_dft_force_train = tr(\"/Users/cancan/Dropbox (Brown)/000_Research/ML_DMC/examples/ch3cl/train/amptorch_dft_force_pyscf_ase/test_results/ch3cl_amptorch_dft_train.traj\")\n",
    "amptorch_dft_force_test = tr(\"/Users/cancan/Dropbox (Brown)/000_Research/ML_DMC/examples/ch3cl/train/amptorch_dft_force_pyscf_ase/test_results/ch3cl_amptorch_dft_test.traj\")"
   ]
  },
  {
   "cell_type": "code",
   "execution_count": 9,
   "metadata": {},
   "outputs": [
    {
     "name": "stdout",
     "output_type": "stream",
     "text": [
      "0.0015233120854420154\n",
      "0.3505013680103236\n",
      "0.006521979149979889\n",
      "0.3520089385180027\n"
     ]
    }
   ],
   "source": [
    "print(calc_energy_mae(train_data, amptorch_dft_force_train))\n",
    "print(calc_energy_mae(test_data, amptorch_dft_force_test))\n",
    "print(calc_force_rmse(train_data, amptorch_dft_force_train))\n",
    "print(calc_force_rmse(test_data, amptorch_dft_force_test))"
   ]
  },
  {
   "cell_type": "markdown",
   "metadata": {},
   "source": [
    "### AMPtorch DFT without force"
   ]
  },
  {
   "cell_type": "code",
   "execution_count": 10,
   "metadata": {},
   "outputs": [
    {
     "name": "stdout",
     "output_type": "stream",
     "text": [
      "0.0018669685901435734\n",
      "0.3932506108754342\n",
      "0.15562653333623414\n",
      "0.5304621263116152\n"
     ]
    }
   ],
   "source": [
    "amptorch_dft_noforce_train = tr(\"/Users/cancan/Dropbox (Brown)/000_Research/ML_DMC/examples/ch3cl/train/amptorch_dft_noforce_pyscf_ase/test_results/ch3cl_amptorch_dft_train.traj\")\n",
    "amptorch_dft_noforce_test = tr(\"/Users/cancan/Dropbox (Brown)/000_Research/ML_DMC/examples/ch3cl/train/amptorch_dft_noforce_pyscf_ase/test_results/ch3cl_amptorch_dft_test.traj\")\n",
    "\n",
    "print(calc_energy_mae(train_data, amptorch_dft_noforce_train))\n",
    "print(calc_energy_mae(test_data, amptorch_dft_noforce_test))\n",
    "print(calc_force_rmse(train_data, amptorch_dft_noforce_train))\n",
    "print(calc_force_rmse(test_data, amptorch_dft_noforce_test))"
   ]
  },
  {
   "cell_type": "markdown",
   "metadata": {},
   "source": [
    "### AMPTorch DMC"
   ]
  },
  {
   "cell_type": "code",
   "execution_count": 12,
   "metadata": {},
   "outputs": [
    {
     "name": "stdout",
     "output_type": "stream",
     "text": [
      "0.0033992219844901873\n",
      "0.8873337226463557\n",
      "0.2328050072141353\n",
      "0.24912243760200922\n"
     ]
    }
   ],
   "source": [
    "train_data = tr(\"/Users/cancan/Dropbox (Brown)/000_Research/ML_DMC/examples/ch3cl/data/train_dmc.traj\")\n",
    "test_data = tr(\"/Users/cancan/Dropbox (Brown)/000_Research/ML_DMC/examples/ch3cl/data/test_dmc.traj\")\n",
    "\n",
    "amptorch_dmc_train = tr(\"/Users/cancan/Dropbox (Brown)/000_Research/ML_DMC/examples/ch3cl/train/amptorch_dmc/test_results/ch3cl_amptorch_dmc_train.traj\")\n",
    "amptorch_dmc_test = tr(\"/Users/cancan/Dropbox (Brown)/000_Research/ML_DMC/examples/ch3cl/train/amptorch_dmc/test_results/ch3cl_amptorch_dmc_test.traj\")\n",
    "\n",
    "print(calc_energy_mae(train_data, amptorch_dmc_train))\n",
    "print(calc_energy_mae(test_data, amptorch_dmc_test))\n",
    "print(calc_force_rmse(train_data, amptorch_dmc_train))\n",
    "print(calc_force_rmse(test_data, amptorch_dmc_test))"
   ]
  }
 ],
 "metadata": {
  "kernelspec": {
   "display_name": "Python 3.8.13 ('amptorch')",
   "language": "python",
   "name": "python3"
  },
  "language_info": {
   "codemirror_mode": {
    "name": "ipython",
    "version": 3
   },
   "file_extension": ".py",
   "mimetype": "text/x-python",
   "name": "python",
   "nbconvert_exporter": "python",
   "pygments_lexer": "ipython3",
   "version": "3.8.13"
  },
  "orig_nbformat": 4,
  "vscode": {
   "interpreter": {
    "hash": "47a8924c1ffbd3dead3663e77b532ced733b76be227d134eccfdd693add962a2"
   }
  }
 },
 "nbformat": 4,
 "nbformat_minor": 2
}
