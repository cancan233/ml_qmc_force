{
 "cells": [
  {
   "cell_type": "markdown",
   "id": "downtown-following",
   "metadata": {},
   "source": [
    "## Set up Environments"
   ]
  },
  {
   "cell_type": "code",
   "execution_count": 1,
   "id": "democratic-collins",
   "metadata": {
    "execution": {
     "iopub.execute_input": "2022-04-27T03:09:16.780953Z",
     "iopub.status.busy": "2022-04-27T03:09:16.780693Z",
     "iopub.status.idle": "2022-04-27T03:09:17.171113Z",
     "shell.execute_reply": "2022-04-27T03:09:17.170433Z",
     "shell.execute_reply.started": "2022-04-27T03:09:16.780887Z"
    },
    "tags": []
   },
   "outputs": [
    {
     "name": "stderr",
     "output_type": "stream",
     "text": [
      "/var/folders/s_/s1p_xb8n08x8djc3cxcpsm900000gn/T/ipykernel_8130/584238185.py:9: MatplotlibDeprecationWarning: \n",
      "The mpl_toolkits.axes_grid module was deprecated in Matplotlib 2.1 and will be removed two minor releases later. Use mpl_toolkits.axes_grid1 and mpl_toolkits.axisartist, which provide the same functionality instead.\n",
      "  from mpl_toolkits.axes_grid.inset_locator import InsetPosition\n"
     ]
    }
   ],
   "source": [
    "from ase.io.trajectory import TrajectoryWriter as tw\n",
    "from ase.io.trajectory import TrajectoryReader as tr\n",
    "\n",
    "import os\n",
    "import numpy as np\n",
    "\n",
    "import matplotlib\n",
    "import matplotlib.pyplot as plt\n",
    "from mpl_toolkits.axes_grid.inset_locator import InsetPosition\n",
    "\n",
    "from publish_format import useLargeSize"
   ]
  },
  {
   "cell_type": "markdown",
   "id": "accessible-jefferson",
   "metadata": {},
   "source": [
    "## Some Useful functions"
   ]
  },
  {
   "cell_type": "code",
   "execution_count": 3,
   "id": "comparative-attendance",
   "metadata": {
    "execution": {
     "iopub.execute_input": "2022-04-27T03:09:19.759828Z",
     "iopub.status.busy": "2022-04-27T03:09:19.759592Z",
     "iopub.status.idle": "2022-04-27T03:09:19.766163Z",
     "shell.execute_reply": "2022-04-27T03:09:19.765574Z",
     "shell.execute_reply.started": "2022-04-27T03:09:19.759803Z"
    },
    "tags": []
   },
   "outputs": [],
   "source": [
    "def extract_energy(filename):\n",
    "    energy = []\n",
    "    trajs = tr(filename)\n",
    "    for traj in trajs:\n",
    "        energy.append(traj.get_potential_energy())\n",
    "    return np.array(energy)\n",
    "\n",
    "\n",
    "def extract_forces_norm(filename):\n",
    "    forces = []\n",
    "    trajs = tr(filename)\n",
    "    for traj in trajs:\n",
    "        # forces.append(np.linalg.norm(np.array(traj.get_forces())))\n",
    "        forces.append(traj.get_forces()[0])\n",
    "    return np.array(forces)\n",
    "\n",
    "def extract_forces(filename):\n",
    "    forces = []\n",
    "    trajs = tr(filename)\n",
    "    for traj in trajs:\n",
    "        forces.append(np.array(traj.get_forces()))\n",
    "    return np.array(forces)\n",
    "\n",
    "def extract_distance(filename, atom1, atom2):\n",
    "    distances = []\n",
    "    trajs = tr(filename)\n",
    "    print(trajs[0].get_chemical_symbols())\n",
    "    print(\"Get distance between atom {} and atom {}\".format(atom1, atom2))\n",
    "    for traj in trajs:\n",
    "        distances.append(traj.get_distances(atom1, atom2)[0])\n",
    "    return np.array(distances)\n",
    "\n",
    "def extract_error_bar(filename):\n",
    "    trajs = tr(filename)\n",
    "    uncertainty = []\n",
    "    for traj in trajs:\n",
    "        uncertainty.append(traj.info[\"uncertainty\"])\n",
    "    return np.array(uncertainty)"
   ]
  },
  {
   "cell_type": "markdown",
   "id": "written-breathing",
   "metadata": {},
   "source": [
    "## Comparison between DFT, AMPtorch DFT (with force) and AMPtorch DFT (without force) on Training dataset"
   ]
  },
  {
   "cell_type": "code",
   "execution_count": 4,
   "id": "ceramic-convenience",
   "metadata": {
    "execution": {
     "iopub.execute_input": "2022-04-27T03:09:21.796151Z",
     "iopub.status.busy": "2022-04-27T03:09:21.795928Z",
     "iopub.status.idle": "2022-04-27T03:09:21.971812Z",
     "shell.execute_reply": "2022-04-27T03:09:21.971165Z",
     "shell.execute_reply.started": "2022-04-27T03:09:21.796127Z"
    },
    "tags": []
   },
   "outputs": [
    {
     "ename": "FileNotFoundError",
     "evalue": "[Errno 2] No such file or directory: 'dft/widerange/dft_truncated.traj'",
     "output_type": "error",
     "traceback": [
      "\u001b[0;31m---------------------------------------------------------------------------\u001b[0m",
      "\u001b[0;31mFileNotFoundError\u001b[0m                         Traceback (most recent call last)",
      "\u001b[1;32m/Users/cancan/Dropbox (Brown)/000_Research/ML_DMC/examples/c2/notebooks_analysis/c2_data_analysis.ipynb Cell 6'\u001b[0m in \u001b[0;36m<cell line: 2>\u001b[0;34m()\u001b[0m\n\u001b[1;32m      <a href='vscode-notebook-cell:/Users/cancan/Dropbox%20%28Brown%29/000_Research/ML_DMC/examples/c2/notebooks_analysis/c2_data_analysis.ipynb#ch0000005?line=0'>1</a>\u001b[0m dft_file \u001b[39m=\u001b[39m \u001b[39m\"\u001b[39m\u001b[39m./dft/widerange/dft_truncated.traj\u001b[39m\u001b[39m\"\u001b[39m\n\u001b[0;32m----> <a href='vscode-notebook-cell:/Users/cancan/Dropbox%20%28Brown%29/000_Research/ML_DMC/examples/c2/notebooks_analysis/c2_data_analysis.ipynb#ch0000005?line=1'>2</a>\u001b[0m forces_dft \u001b[39m=\u001b[39m extract_forces_norm(dft_file)\n\u001b[1;32m      <a href='vscode-notebook-cell:/Users/cancan/Dropbox%20%28Brown%29/000_Research/ML_DMC/examples/c2/notebooks_analysis/c2_data_analysis.ipynb#ch0000005?line=2'>3</a>\u001b[0m forces_dft_mae \u001b[39m=\u001b[39m extract_forces(dft_file)\n\u001b[1;32m      <a href='vscode-notebook-cell:/Users/cancan/Dropbox%20%28Brown%29/000_Research/ML_DMC/examples/c2/notebooks_analysis/c2_data_analysis.ipynb#ch0000005?line=3'>4</a>\u001b[0m energies_dft \u001b[39m=\u001b[39m extract_energy(dft_file)\n",
      "\u001b[1;32m/Users/cancan/Dropbox (Brown)/000_Research/ML_DMC/examples/c2/notebooks_analysis/c2_data_analysis.ipynb Cell 4'\u001b[0m in \u001b[0;36mextract_forces_norm\u001b[0;34m(filename)\u001b[0m\n\u001b[1;32m      <a href='vscode-notebook-cell:/Users/cancan/Dropbox%20%28Brown%29/000_Research/ML_DMC/examples/c2/notebooks_analysis/c2_data_analysis.ipynb#ch0000003?line=8'>9</a>\u001b[0m \u001b[39mdef\u001b[39;00m \u001b[39mextract_forces_norm\u001b[39m(filename):\n\u001b[1;32m     <a href='vscode-notebook-cell:/Users/cancan/Dropbox%20%28Brown%29/000_Research/ML_DMC/examples/c2/notebooks_analysis/c2_data_analysis.ipynb#ch0000003?line=9'>10</a>\u001b[0m     forces \u001b[39m=\u001b[39m []\n\u001b[0;32m---> <a href='vscode-notebook-cell:/Users/cancan/Dropbox%20%28Brown%29/000_Research/ML_DMC/examples/c2/notebooks_analysis/c2_data_analysis.ipynb#ch0000003?line=10'>11</a>\u001b[0m     trajs \u001b[39m=\u001b[39m tr(filename)\n\u001b[1;32m     <a href='vscode-notebook-cell:/Users/cancan/Dropbox%20%28Brown%29/000_Research/ML_DMC/examples/c2/notebooks_analysis/c2_data_analysis.ipynb#ch0000003?line=11'>12</a>\u001b[0m     \u001b[39mfor\u001b[39;00m traj \u001b[39min\u001b[39;00m trajs:\n\u001b[1;32m     <a href='vscode-notebook-cell:/Users/cancan/Dropbox%20%28Brown%29/000_Research/ML_DMC/examples/c2/notebooks_analysis/c2_data_analysis.ipynb#ch0000003?line=12'>13</a>\u001b[0m         \u001b[39m# forces.append(np.linalg.norm(np.array(traj.get_forces())))\u001b[39;00m\n\u001b[1;32m     <a href='vscode-notebook-cell:/Users/cancan/Dropbox%20%28Brown%29/000_Research/ML_DMC/examples/c2/notebooks_analysis/c2_data_analysis.ipynb#ch0000003?line=13'>14</a>\u001b[0m         forces\u001b[39m.\u001b[39mappend(traj\u001b[39m.\u001b[39mget_forces()[\u001b[39m0\u001b[39m])\n",
      "File \u001b[0;32m/usr/local/Caskroom/miniconda/base/lib/python3.9/site-packages/ase/io/trajectory.py:225\u001b[0m, in \u001b[0;36mTrajectoryReader.__init__\u001b[0;34m(self, filename)\u001b[0m\n\u001b[1;32m    222\u001b[0m \u001b[39mself\u001b[39m\u001b[39m.\u001b[39mpbc \u001b[39m=\u001b[39m \u001b[39mNone\u001b[39;00m\n\u001b[1;32m    223\u001b[0m \u001b[39mself\u001b[39m\u001b[39m.\u001b[39mmasses \u001b[39m=\u001b[39m \u001b[39mNone\u001b[39;00m\n\u001b[0;32m--> 225\u001b[0m \u001b[39mself\u001b[39;49m\u001b[39m.\u001b[39;49m_open(filename)\n",
      "File \u001b[0;32m/usr/local/Caskroom/miniconda/base/lib/python3.9/site-packages/ase/io/trajectory.py:235\u001b[0m, in \u001b[0;36mTrajectoryReader._open\u001b[0;34m(self, filename)\u001b[0m\n\u001b[1;32m    233\u001b[0m \u001b[39mdef\u001b[39;00m \u001b[39m_open\u001b[39m(\u001b[39mself\u001b[39m, filename):\n\u001b[1;32m    234\u001b[0m     \u001b[39mimport\u001b[39;00m \u001b[39mase\u001b[39;00m\u001b[39m.\u001b[39;00m\u001b[39mio\u001b[39;00m\u001b[39m.\u001b[39;00m\u001b[39mulm\u001b[39;00m \u001b[39mas\u001b[39;00m \u001b[39mulm\u001b[39;00m\n\u001b[0;32m--> 235\u001b[0m     \u001b[39mself\u001b[39m\u001b[39m.\u001b[39mbackend \u001b[39m=\u001b[39m ulm\u001b[39m.\u001b[39;49mopen(filename, \u001b[39m'\u001b[39;49m\u001b[39mr\u001b[39;49m\u001b[39m'\u001b[39;49m)\n\u001b[1;32m    236\u001b[0m     \u001b[39mself\u001b[39m\u001b[39m.\u001b[39m_read_header()\n",
      "File \u001b[0;32m/usr/local/Caskroom/miniconda/base/lib/python3.9/site-packages/ase/io/ulm.py:156\u001b[0m, in \u001b[0;36mopen\u001b[0;34m(filename, mode, index, tag)\u001b[0m\n\u001b[1;32m    154\u001b[0m \u001b[39mif\u001b[39;00m mode \u001b[39m==\u001b[39m \u001b[39m'\u001b[39m\u001b[39mr\u001b[39m\u001b[39m'\u001b[39m:\n\u001b[1;32m    155\u001b[0m     \u001b[39massert\u001b[39;00m tag \u001b[39mis\u001b[39;00m \u001b[39mNone\u001b[39;00m\n\u001b[0;32m--> 156\u001b[0m     \u001b[39mreturn\u001b[39;00m Reader(filename, index \u001b[39mor\u001b[39;49;00m \u001b[39m0\u001b[39;49m)\n\u001b[1;32m    157\u001b[0m \u001b[39mif\u001b[39;00m mode \u001b[39mnot\u001b[39;00m \u001b[39min\u001b[39;00m \u001b[39m'\u001b[39m\u001b[39mwa\u001b[39m\u001b[39m'\u001b[39m:\n\u001b[1;32m    158\u001b[0m     \u001b[39m2\u001b[39m \u001b[39m/\u001b[39m \u001b[39m0\u001b[39m\n",
      "File \u001b[0;32m/usr/local/Caskroom/miniconda/base/lib/python3.9/site-packages/ase/io/ulm.py:477\u001b[0m, in \u001b[0;36mReader.__init__\u001b[0;34m(self, fd, index, data, _little_endian)\u001b[0m\n\u001b[1;32m    474\u001b[0m \u001b[39mself\u001b[39m\u001b[39m.\u001b[39m_little_endian \u001b[39m=\u001b[39m _little_endian\n\u001b[1;32m    476\u001b[0m \u001b[39mif\u001b[39;00m \u001b[39mnot\u001b[39;00m \u001b[39mhasattr\u001b[39m(fd, \u001b[39m'\u001b[39m\u001b[39mread\u001b[39m\u001b[39m'\u001b[39m):\n\u001b[0;32m--> 477\u001b[0m     fd \u001b[39m=\u001b[39m Path(fd)\u001b[39m.\u001b[39;49mopen(\u001b[39m'\u001b[39;49m\u001b[39mrb\u001b[39;49m\u001b[39m'\u001b[39;49m)\n\u001b[1;32m    479\u001b[0m \u001b[39mself\u001b[39m\u001b[39m.\u001b[39m_fd \u001b[39m=\u001b[39m fd\n\u001b[1;32m    480\u001b[0m \u001b[39mself\u001b[39m\u001b[39m.\u001b[39m_index \u001b[39m=\u001b[39m index\n",
      "File \u001b[0;32m/usr/local/Caskroom/miniconda/base/lib/python3.9/pathlib.py:1252\u001b[0m, in \u001b[0;36mPath.open\u001b[0;34m(self, mode, buffering, encoding, errors, newline)\u001b[0m\n\u001b[1;32m   1246\u001b[0m \u001b[39mdef\u001b[39;00m \u001b[39mopen\u001b[39m(\u001b[39mself\u001b[39m, mode\u001b[39m=\u001b[39m\u001b[39m'\u001b[39m\u001b[39mr\u001b[39m\u001b[39m'\u001b[39m, buffering\u001b[39m=\u001b[39m\u001b[39m-\u001b[39m\u001b[39m1\u001b[39m, encoding\u001b[39m=\u001b[39m\u001b[39mNone\u001b[39;00m,\n\u001b[1;32m   1247\u001b[0m          errors\u001b[39m=\u001b[39m\u001b[39mNone\u001b[39;00m, newline\u001b[39m=\u001b[39m\u001b[39mNone\u001b[39;00m):\n\u001b[1;32m   1248\u001b[0m     \u001b[39m\"\"\"\u001b[39;00m\n\u001b[1;32m   1249\u001b[0m \u001b[39m    Open the file pointed by this path and return a file object, as\u001b[39;00m\n\u001b[1;32m   1250\u001b[0m \u001b[39m    the built-in open() function does.\u001b[39;00m\n\u001b[1;32m   1251\u001b[0m \u001b[39m    \"\"\"\u001b[39;00m\n\u001b[0;32m-> 1252\u001b[0m     \u001b[39mreturn\u001b[39;00m io\u001b[39m.\u001b[39;49mopen(\u001b[39mself\u001b[39;49m, mode, buffering, encoding, errors, newline,\n\u001b[1;32m   1253\u001b[0m                    opener\u001b[39m=\u001b[39;49m\u001b[39mself\u001b[39;49m\u001b[39m.\u001b[39;49m_opener)\n",
      "File \u001b[0;32m/usr/local/Caskroom/miniconda/base/lib/python3.9/pathlib.py:1120\u001b[0m, in \u001b[0;36mPath._opener\u001b[0;34m(self, name, flags, mode)\u001b[0m\n\u001b[1;32m   1118\u001b[0m \u001b[39mdef\u001b[39;00m \u001b[39m_opener\u001b[39m(\u001b[39mself\u001b[39m, name, flags, mode\u001b[39m=\u001b[39m\u001b[39m0o666\u001b[39m):\n\u001b[1;32m   1119\u001b[0m     \u001b[39m# A stub for the opener argument to built-in open()\u001b[39;00m\n\u001b[0;32m-> 1120\u001b[0m     \u001b[39mreturn\u001b[39;00m \u001b[39mself\u001b[39;49m\u001b[39m.\u001b[39;49m_accessor\u001b[39m.\u001b[39;49mopen(\u001b[39mself\u001b[39;49m, flags, mode)\n",
      "\u001b[0;31mFileNotFoundError\u001b[0m: [Errno 2] No such file or directory: 'dft/widerange/dft_truncated.traj'"
     ]
    }
   ],
   "source": [
    "dft_file = \"./dft/widerange/dft_truncated.traj\"\n",
    "forces_dft = extract_forces_norm(dft_file)\n",
    "forces_dft_mae = extract_forces(dft_file)\n",
    "energies_dft = extract_energy(dft_file)\n",
    "distances_dft = extract_distance(dft_file, 0, 1)\n",
    "\n",
    "amptorch_dft_force_file = \"./amptorch_dft/force/c2_amptorch_dft.traj\"\n",
    "forces_amptorch_dft_force = extract_forces_norm(amptorch_dft_force_file)\n",
    "forces_amptorch_dft_force_mae = extract_forces(amptorch_dft_force_file)\n",
    "energies_amptorch_dft_force = extract_energy(amptorch_dft_force_file)\n",
    "distances_amptorch_dft_force = extract_distance(amptorch_dft_force_file, 0, 1)\n",
    "\n",
    "amptorch_dft_noforce_file = \"./amptorch_dft/noforce/check/c2_amptorch_dft.traj\"\n",
    "forces_amptorch_dft_noforce = extract_forces_norm(amptorch_dft_noforce_file)\n",
    "forces_amptorch_dft_noforce_mae = extract_forces(amptorch_dft_noforce_file)\n",
    "energies_amptorch_dft_noforce = extract_energy(amptorch_dft_noforce_file)\n",
    "distances_amptorch_dft_noforce = extract_distance(amptorch_dft_noforce_file, 0, 1)"
   ]
  },
  {
   "cell_type": "code",
   "execution_count": 51,
   "id": "dd83759f-c841-435e-9f3d-d05bd1bcc768",
   "metadata": {
    "execution": {
     "iopub.execute_input": "2022-03-22T20:29:25.827522Z",
     "iopub.status.busy": "2022-03-22T20:29:25.827303Z",
     "iopub.status.idle": "2022-03-22T20:29:25.832701Z",
     "shell.execute_reply": "2022-03-22T20:29:25.832248Z",
     "shell.execute_reply.started": "2022-03-22T20:29:25.827499Z"
    },
    "tags": []
   },
   "outputs": [
    {
     "ename": "IndexError",
     "evalue": "invalid index to scalar variable.",
     "output_type": "error",
     "traceback": [
      "\u001b[0;31m---------------------------------------------------------------------------\u001b[0m",
      "\u001b[0;31mIndexError\u001b[0m                                Traceback (most recent call last)",
      "\u001b[0;32m<ipython-input-51-7b62cc51f820>\u001b[0m in \u001b[0;36m<module>\u001b[0;34m()\u001b[0m\n\u001b[1;32m      1\u001b[0m \u001b[0;32mfor\u001b[0m \u001b[0mi\u001b[0m \u001b[0;32min\u001b[0m \u001b[0mrange\u001b[0m\u001b[0;34m(\u001b[0m\u001b[0mlen\u001b[0m\u001b[0;34m(\u001b[0m\u001b[0mdistances_dft\u001b[0m\u001b[0;34m)\u001b[0m\u001b[0;34m)\u001b[0m\u001b[0;34m:\u001b[0m\u001b[0;34m\u001b[0m\u001b[0;34m\u001b[0m\u001b[0m\n\u001b[0;32m----> 2\u001b[0;31m     \u001b[0mprint\u001b[0m\u001b[0;34m(\u001b[0m\u001b[0;34m\"{:.2f} {:.2f} {:.2f} {:.2f}\"\u001b[0m\u001b[0;34m.\u001b[0m\u001b[0mformat\u001b[0m\u001b[0;34m(\u001b[0m\u001b[0mdistances_dft\u001b[0m\u001b[0;34m[\u001b[0m\u001b[0mi\u001b[0m\u001b[0;34m]\u001b[0m\u001b[0;34m[\u001b[0m\u001b[0;36m0\u001b[0m\u001b[0;34m]\u001b[0m\u001b[0;34m,\u001b[0m \u001b[0menergies_dft\u001b[0m\u001b[0;34m[\u001b[0m\u001b[0mi\u001b[0m\u001b[0;34m]\u001b[0m\u001b[0;34m,\u001b[0m \u001b[0mforces_dft\u001b[0m\u001b[0;34m[\u001b[0m\u001b[0mi\u001b[0m\u001b[0;34m]\u001b[0m\u001b[0;34m,\u001b[0m \u001b[0mforces_amptorch_dft_force\u001b[0m\u001b[0;34m[\u001b[0m\u001b[0mi\u001b[0m\u001b[0;34m]\u001b[0m\u001b[0;34m,\u001b[0m \u001b[0mforces_amptorch_dft_noforce\u001b[0m\u001b[0;34m[\u001b[0m\u001b[0mi\u001b[0m\u001b[0;34m]\u001b[0m\u001b[0;34m)\u001b[0m\u001b[0;34m)\u001b[0m\u001b[0;34m\u001b[0m\u001b[0;34m\u001b[0m\u001b[0m\n\u001b[0m",
      "\u001b[0;31mIndexError\u001b[0m: invalid index to scalar variable."
     ]
    }
   ],
   "source": [
    "for i in range(len(distances_dft)):\n",
    "    print(\"{:.2f} {:.2f} {:.2f} {:.2f}\".format(distances_dft[i][0], energies_dft[i], forces_dft[i], forces_amptorch_dft_force[i], forces_amptorch_dft_noforce[i]))"
   ]
  },
  {
   "cell_type": "code",
   "execution_count": null,
   "id": "preceding-commissioner",
   "metadata": {
    "execution": {
     "iopub.execute_input": "2022-03-21T02:09:23.278613Z",
     "iopub.status.busy": "2022-03-21T02:09:23.278412Z",
     "iopub.status.idle": "2022-03-21T02:09:23.318653Z",
     "shell.execute_reply": "2022-03-21T02:09:23.318088Z",
     "shell.execute_reply.started": "2022-03-21T02:09:23.278592Z"
    },
    "tags": []
   },
   "outputs": [],
   "source": [
    "dft_traj = tr(\"./dft/widerange/dft.traj\")[6:]\n",
    "dft_truc_traj = tw(\"./dft/widerange/dft_truncated.traj\")\n",
    "for traj in dft_traj:\n",
    "    dft_truc_traj.write(traj)\n",
    "    \n",
    "print(len(dft_traj))"
   ]
  },
  {
   "cell_type": "markdown",
   "id": "encouraging-meditation",
   "metadata": {},
   "source": [
    "### Energy comparison plot"
   ]
  },
  {
   "cell_type": "code",
   "execution_count": null,
   "id": "unlikely-lafayette",
   "metadata": {
    "execution": {
     "iopub.execute_input": "2022-04-27T01:02:32.467462Z",
     "iopub.status.busy": "2022-04-27T01:02:32.467256Z",
     "iopub.status.idle": "2022-04-27T01:02:32.472202Z",
     "shell.execute_reply": "2022-04-27T01:02:32.471751Z",
     "shell.execute_reply.started": "2022-04-27T01:02:32.467440Z"
    },
    "tags": []
   },
   "outputs": [],
   "source": [
    "print(\n",
    "    \"MAE for amptorch DFT (force): \\t energy {:.6f} \\t force {:.6f}\".format(\n",
    "        np.sum(np.abs(energies_amptorch_dft_force - energies_dft))\n",
    "        / len(energies_dft),\n",
    "        np.mean(np.abs(forces_amptorch_dft_force_mae - forces_dft_mae)),\n",
    "    )\n",
    ")\n",
    "\n",
    "print(\n",
    "    \"MAE for amptorch DFT (noforce):  energy {:.6f} \\t force {:.6f}\".format(\n",
    "        np.sum(np.abs(energies_amptorch_dft_noforce - energies_dft))\n",
    "        / len(energies_dft),\n",
    "        np.mean(np.abs(forces_amptorch_dft_noforce_mae - forces_dft_mae)),\n",
    "    )\n",
    ")\n",
    "\n",
    "print(\n",
    "    len(energies_dft),\n",
    "    len(energies_amptorch_dft_force),\n",
    "    len(energies_amptorch_dft_noforce),\n",
    ")"
   ]
  },
  {
   "cell_type": "code",
   "execution_count": null,
   "id": "descending-orchestra",
   "metadata": {
    "execution": {
     "iopub.execute_input": "2022-04-27T03:09:31.716752Z",
     "iopub.status.busy": "2022-04-27T03:09:31.716493Z",
     "iopub.status.idle": "2022-04-27T03:09:31.719926Z",
     "shell.execute_reply": "2022-04-27T03:09:31.719353Z",
     "shell.execute_reply.started": "2022-04-27T03:09:31.716726Z"
    },
    "tags": []
   },
   "outputs": [],
   "source": [
    "energies_dft -= min(energies_dft)\n",
    "energies_amptorch_dft_force -= min(energies_amptorch_dft_force)\n",
    "energies_amptorch_dft_noforce -= min(energies_amptorch_dft_noforce)"
   ]
  },
  {
   "cell_type": "code",
   "execution_count": null,
   "id": "better-bride",
   "metadata": {
    "execution": {
     "iopub.execute_input": "2022-03-08T02:13:37.032846Z",
     "iopub.status.busy": "2022-03-08T02:13:37.032619Z",
     "iopub.status.idle": "2022-03-08T02:13:37.035504Z",
     "shell.execute_reply": "2022-03-08T02:13:37.035048Z",
     "shell.execute_reply.started": "2022-03-08T02:13:37.032823Z"
    }
   },
   "outputs": [],
   "source": [
    "if not os.path.exists(\"./figures\"):\n",
    "    os.makedirs(\"./figures\")"
   ]
  },
  {
   "cell_type": "code",
   "execution_count": null,
   "id": "legendary-bouquet",
   "metadata": {
    "execution": {
     "iopub.execute_input": "2022-04-27T03:09:38.976965Z",
     "iopub.status.busy": "2022-04-27T03:09:38.976735Z",
     "iopub.status.idle": "2022-04-27T03:09:40.080834Z",
     "shell.execute_reply": "2022-04-27T03:09:40.080290Z",
     "shell.execute_reply.started": "2022-04-27T03:09:38.976940Z"
    },
    "tags": []
   },
   "outputs": [],
   "source": [
    "plt.style.use('default')\n",
    "\n",
    "fig, ax = plt.subplots(figsize=(8,6))\n",
    "\n",
    "ax.plot(distances_dft, energies_dft, marker=\"x\", linestyle=\"dotted\", markersize=8, c=\"k\", label=\"DFT\")\n",
    "ax.scatter(distances_amptorch_dft_force, energies_amptorch_dft_force, marker=\"v\", s=60, c=\"tab:orange\", label=\"AMPtorch DFT (with force)\")\n",
    "ax.scatter(distances_amptorch_dft_noforce, energies_amptorch_dft_noforce, marker=\"^\", s=60, c=\"tab:blue\", label=\"AMPtorch DFT (without force)\")\n",
    "\n",
    "\n",
    "\n",
    "ax.set_xlabel(r\"$d_{C-C}\\ (\\AA$)\")\n",
    "ax.set_ylabel(r\"$E_{pot}\\ (eV)$\")\n",
    "ax.tick_params(axis=\"y\")\n",
    "ax.yaxis.set_ticks_position(\"both\")\n",
    "ax.xaxis.set_ticks_position(\"both\")\n",
    "ax.legend(loc=0, frameon=False, fontsize=18)\n",
    "\n",
    "ax2 = plt.axes([0, 0, 1, 1])\n",
    "ip = InsetPosition(ax, [0.56, 0.09, 0.4, 0.4])\n",
    "# ip = inset_axes(ax, [0.56, 0.09, 0.4, 0.4])\n",
    "start, end = 5, 19\n",
    "ax2.set_axes_locator(ip)\n",
    "ax2.plot(distances_dft[start:end], energies_dft[start:end], marker=\"x\", linestyle=\"dotted\", markersize=8, c=\"k\", label=\"DFT\")\n",
    "ax2.scatter(distances_amptorch_dft_force[start:end], energies_amptorch_dft_force[start:end], marker=\"v\", s=60, c=\"tab:orange\", label=\"AMPtorch DFT (with force)\")\n",
    "ax2.scatter(distances_amptorch_dft_noforce[start:end], energies_amptorch_dft_noforce[start:end], marker=\"^\", s=60, c=\"tab:blue\", label=\"AMPtorch DFT (without force)\")\n",
    "\n",
    "ax2.yaxis.set_ticks_position(\"both\")\n",
    "ax2.xaxis.set_ticks_position(\"both\")\n",
    "\n",
    "useLargeSize(plt, ax)\n",
    "useLargeSize(plt, ax2)\n",
    "\n",
    "plt.savefig(\"./figures/c2_dft_energy_comparison.png\", dpi=300)\n",
    "plt.show()"
   ]
  },
  {
   "cell_type": "markdown",
   "id": "unable-difference",
   "metadata": {},
   "source": [
    "### Energy parity plot"
   ]
  },
  {
   "cell_type": "code",
   "execution_count": null,
   "id": "conventional-appendix",
   "metadata": {
    "execution": {
     "iopub.execute_input": "2022-04-27T03:16:18.349690Z",
     "iopub.status.busy": "2022-04-27T03:16:18.349437Z",
     "iopub.status.idle": "2022-04-27T03:16:19.503160Z",
     "shell.execute_reply": "2022-04-27T03:16:19.502683Z",
     "shell.execute_reply.started": "2022-04-27T03:16:18.349667Z"
    },
    "tags": []
   },
   "outputs": [],
   "source": [
    "plt.style.use('default')\n",
    "\n",
    "fig, axs = plt.subplots(2, 1, sharex=True, figsize=(8,8), gridspec_kw={'height_ratios': [4, 1]})\n",
    "fig.subplots_adjust(hspace=0)\n",
    "\n",
    "axs[0].plot(energies_dft, energies_dft, linestyle=\"dotted\", c=\"k\", label=\"DFT\")\n",
    "axs[0].scatter(energies_dft, energies_amptorch_dft_force, marker=\"v\", s=60, c=\"tab:orange\", label=\"AMPtorch DFT (with force)\")\n",
    "axs[0].scatter(energies_dft, energies_amptorch_dft_noforce, marker=\"^\", s=60, c=\"tab:blue\", label=\"AMPtorch DFT (without force)\")\n",
    "\n",
    "\n",
    "\n",
    "axs[0].set_ylabel(r\"$E_{pred}\\ (eV)$\")\n",
    "axs[0].tick_params(axis=\"y\")\n",
    "axs[0].yaxis.set_ticks_position(\"both\")\n",
    "axs[0].xaxis.set_ticks_position(\"both\")\n",
    "axs[0].legend(loc=0, frameon=False, fontsize=18)\n",
    "\n",
    "axs[1].plot(energies_dft, energies_dft - energies_dft, linestyle=\"dotted\", c=\"k\", label=\"DFT\")\n",
    "axs[1].scatter(energies_dft, (energies_amptorch_dft_force-energies_dft), marker=\"v\", s=60, c=\"tab:orange\", label=\"AMPtorch DFT (with force)\")\n",
    "axs[1].scatter(energies_dft, (energies_amptorch_dft_noforce-energies_dft), marker=\"^\", s=60, c=\"tab:blue\", label=\"AMPtorch DFT (without force)\")\n",
    "\n",
    "\n",
    "axs[1].set_xlabel(r\"$E_{DFT}\\ (eV)$\")\n",
    "axs[1].set_ylabel(r\"$E_{pred} - E_{DFT}\\ (eV)$\")\n",
    "\n",
    "axs[0].xaxis.set_ticks_position(\"both\")\n",
    "axs[0].yaxis.set_ticks_position(\"both\")\n",
    "axs[1].xaxis.set_ticks_position(\"both\")\n",
    "axs[1].yaxis.set_ticks_position(\"both\")\n",
    "useLargeSize(plt, axs[0])\n",
    "useLargeSize(plt, axs[1])\n",
    "\n",
    "plt.tight_layout()\n",
    "plt.savefig(\"./figures/c2_dft_energy_parity.png\", dpi=300)\n",
    "plt.show()"
   ]
  },
  {
   "cell_type": "markdown",
   "id": "faced-mambo",
   "metadata": {},
   "source": [
    "### Force comparison plot"
   ]
  },
  {
   "cell_type": "code",
   "execution_count": null,
   "id": "working-graph",
   "metadata": {
    "execution": {
     "iopub.execute_input": "2022-04-27T03:15:55.331882Z",
     "iopub.status.busy": "2022-04-27T03:15:55.331681Z",
     "iopub.status.idle": "2022-04-27T03:15:56.293702Z",
     "shell.execute_reply": "2022-04-27T03:15:56.293124Z",
     "shell.execute_reply.started": "2022-04-27T03:15:55.331860Z"
    },
    "tags": []
   },
   "outputs": [],
   "source": [
    "plt.style.use('default')\n",
    "\n",
    "fig, ax = plt.subplots(figsize=(8,6))\n",
    "\n",
    "ax.plot(distances_dft, forces_dft, marker=\"x\", linestyle=\"dotted\", markersize=8, c=\"k\", label=\"DFT\")\n",
    "ax.scatter(distances_amptorch_dft_force, forces_amptorch_dft_force, marker=\"v\", s=60, c=\"tab:orange\", label=\"AMPtorch DFT (with force)\")\n",
    "ax.scatter(distances_amptorch_dft_noforce, forces_amptorch_dft_noforce, marker=\"^\", s=60, c=\"tab:blue\", label=\"AMPtorch DFT (without force)\")\n",
    "\n",
    "\n",
    "\n",
    "ax.set_xlabel(r\"$d_{C-C}\\ (\\AA$)\")\n",
    "ax.set_ylabel(r\"$F\\, (eV\\cdot\\AA^{-1})$\")\n",
    "ax.tick_params(axis=\"y\")\n",
    "ax.yaxis.set_ticks_position(\"both\")\n",
    "ax.xaxis.set_ticks_position(\"both\")\n",
    "ax.legend(loc=0, frameon=False, fontsize=18)\n",
    "\n",
    "ax2 = plt.axes([0, 0, 1, 1])\n",
    "ip = InsetPosition(ax, [0.4, 0.2, 0.55, 0.5])\n",
    "start, end = 5, 19\n",
    "ax2.set_axes_locator(ip)\n",
    "ax2.plot(distances_dft[start:end], forces_dft[start:end], marker=\"x\", linestyle=\"dotted\", markersize=8, c=\"k\", label=\"DFT\")\n",
    "ax2.scatter(distances_amptorch_dft_force[start:end], forces_amptorch_dft_force[start:end], marker=\"v\", s=60, c=\"tab:orange\", label=\"AMPtorch DFT (with force)\")\n",
    "ax2.scatter(distances_amptorch_dft_noforce[start:end], forces_amptorch_dft_noforce[start:end], marker=\"^\", s=60, c=\"tab:blue\", label=\"AMPtorch DFT (without force)\")\n",
    "\n",
    "\n",
    "ax2.yaxis.set_ticks_position(\"both\")\n",
    "ax2.xaxis.set_ticks_position(\"both\")\n",
    "\n",
    "useLargeSize(plt, ax)\n",
    "useLargeSize(plt, ax2)\n",
    "\n",
    "plt.savefig(\"./figures/c2_dft_force_comparison.png\", dpi=300)\n",
    "plt.show()"
   ]
  },
  {
   "cell_type": "markdown",
   "id": "resident-furniture",
   "metadata": {},
   "source": [
    "### Force parity plot"
   ]
  },
  {
   "cell_type": "code",
   "execution_count": null,
   "id": "promising-yukon",
   "metadata": {
    "execution": {
     "iopub.execute_input": "2022-04-27T03:15:31.068448Z",
     "iopub.status.busy": "2022-04-27T03:15:31.068237Z",
     "iopub.status.idle": "2022-04-27T03:15:32.301580Z",
     "shell.execute_reply": "2022-04-27T03:15:32.301126Z",
     "shell.execute_reply.started": "2022-04-27T03:15:31.068425Z"
    },
    "tags": []
   },
   "outputs": [],
   "source": [
    "plt.style.use('default')\n",
    "\n",
    "fig, axs = plt.subplots(2, 1, sharex=True, figsize=(8,8), gridspec_kw={'height_ratios': [4, 1]})\n",
    "fig.subplots_adjust(hspace=0)\n",
    "\n",
    "axs[0].plot(forces_dft_mae.flatten(), forces_dft_mae.flatten(), linestyle=\"dotted\", c=\"k\", label=\"DFT\")\n",
    "axs[0].scatter(forces_dft_mae.flatten(), forces_amptorch_dft_force_mae.flatten(), marker=\"v\", s=60, c=\"tab:orange\", label=\"AMPtorch DFT (with force)\")\n",
    "axs[0].scatter(forces_dft_mae.flatten(), forces_amptorch_dft_noforce_mae.flatten(), marker=\"^\", s=60, c=\"tab:blue\", label=\"AMPtorch DFT (without force)\")\n",
    "\n",
    "axs[0].set_ylabel(r\"$F_{pred}\\ (eV\\cdot\\AA^{-1}$)\")\n",
    "axs[0].tick_params(axis=\"y\")\n",
    "axs[0].yaxis.set_ticks_position(\"both\")\n",
    "axs[0].xaxis.set_ticks_position(\"both\")\n",
    "axs[0].legend(loc=0, frameon=False, fontsize=18)\n",
    "\n",
    "axs[1].plot(forces_dft_mae.flatten(), forces_dft_mae.flatten() - forces_dft_mae.flatten(), linestyle=\"dotted\", c=\"k\", label=\"DFT\")\n",
    "axs[1].scatter(forces_dft_mae.flatten(), forces_amptorch_dft_force_mae.flatten()-forces_dft_mae.flatten(), marker=\"v\", s=60, c=\"tab:orange\", label=\"AMPtorch DFT (with force)\")\n",
    "axs[1].scatter(forces_dft_mae.flatten(), forces_amptorch_dft_noforce_mae.flatten()-forces_dft_mae.flatten(), marker=\"^\", s=60, c=\"tab:blue\", label=\"AMPtorch DFT (without force)\")\n",
    "\n",
    "\n",
    "axs[1].set_xlabel(r\"$F_{DFT}\\,(eV\\cdot\\AA^{-1}$)\")\n",
    "axs[1].set_ylabel(r\"${F_{pred} - F_{DFT}}\\,(eV\\cdot\\AA^{-1})$\")\n",
    "\n",
    "axs[1].yaxis.set_ticks_position(\"both\")\n",
    "axs[1].xaxis.set_ticks_position(\"both\")\n",
    "\n",
    "useLargeSize(plt, axs[0])\n",
    "useLargeSize(plt, axs[1])\n",
    "\n",
    "plt.savefig(\"./figures/c2_dft_force_parity.png\", dpi=300)\n",
    "plt.show()"
   ]
  },
  {
   "cell_type": "markdown",
   "id": "wicked-preserve",
   "metadata": {},
   "source": [
    "## Comparison between DFT, AMPtorch DFT (with force) and AMPtorch DFT (without force) on Test  dataset"
   ]
  },
  {
   "cell_type": "code",
   "execution_count": null,
   "id": "e739ea5b-fbdb-4162-ae57-43c2c5ce4b21",
   "metadata": {
    "execution": {
     "iopub.execute_input": "2022-04-27T03:13:55.574144Z",
     "iopub.status.busy": "2022-04-27T03:13:55.573943Z",
     "iopub.status.idle": "2022-04-27T03:13:56.896582Z",
     "shell.execute_reply": "2022-04-27T03:13:56.896122Z",
     "shell.execute_reply.started": "2022-04-27T03:13:55.574122Z"
    },
    "tags": []
   },
   "outputs": [],
   "source": [
    "nexus_dft_traj_file = \"/users/chuang25/data/chuang25/github_repo/ml_qmc_force/examples/c2/dft/widerange/dft.traj\"\n",
    "ase_dft_traj_file = \"/users/chuang25/data/chuang25/github_repo/ml_qmc_force/examples/c2/dft/widerange_test/dft_train.traj\"\n",
    "\n",
    "nexus_forces_dft = extract_forces(nexus_dft_traj_file)[6:]\n",
    "nexus_energies_dft = extract_energy(nexus_dft_traj_file)[6:]\n",
    "nexus_distances_dft = extract_distance(nexus_dft_traj_file, 0, 1)[6:]\n",
    "\n",
    "ase_forces_dft = extract_forces(ase_dft_traj_file)[6:]\n",
    "ase_energies_dft = extract_energy(ase_dft_traj_file)[6:]\n",
    "ase_distances_dft = extract_distance(ase_dft_traj_file, 0, 1)[6:]\n",
    "\n",
    "print(len(nexus_energies_dft), len(ase_energies_dft))\n",
    "\n",
    "length = min(len(nexus_energies_dft), len(ase_energies_dft))\n",
    "nexus_energies_dft = nexus_energies_dft[:length]\n",
    "ase_energies_dft = ase_energies_dft[:length]\n",
    "\n",
    "print(np.mean(ase_energies_dft-nexus_energies_dft))\n",
    "\n",
    "plt.style.use('default')\n",
    "\n",
    "fig, axs = plt.subplots(2, 1, sharex=True, figsize=(8,8), gridspec_kw={'height_ratios': [4, 1]})\n",
    "fig.subplots_adjust(hspace=0)\n",
    "\n",
    "axs[0].plot(nexus_energies_dft, nexus_energies_dft, linestyle=\"dotted\", c=\"k\")\n",
    "axs[0].scatter(nexus_energies_dft, nexus_energies_dft, marker=\"^\", s=60, c=\"tab:blue\", label=\"Nexus\")\n",
    "axs[0].scatter(nexus_energies_dft, ase_energies_dft, marker=\"v\", s=60, c=\"r\", label=\"ASE\")\n",
    "axs[0].set_ylabel(r\"$E_{pot}\\,(eV)$\")\n",
    "axs[0].tick_params(axis=\"y\")\n",
    "axs[0].yaxis.set_ticks_position(\"both\")\n",
    "axs[0].xaxis.set_ticks_position(\"both\")\n",
    "axs[0].legend(loc=0, frameon=False, fontsize=18)\n",
    "\n",
    "axs[1].plot(nexus_energies_dft, nexus_energies_dft - nexus_energies_dft, linestyle=\"dotted\", c=\"k\")\n",
    "axs[1].scatter(nexus_energies_dft, (nexus_energies_dft-nexus_energies_dft),  marker=\"^\", s=60, c=\"tab:blue\", label=\"ASE\")\n",
    "axs[1].scatter(nexus_energies_dft, (ase_energies_dft-nexus_energies_dft),  marker=\"v\", s=60, c=\"r\", label=\"ASE\")\n",
    "axs[1].set_xlabel(r\"$E_{Nexus}\\ (eV)$\")\n",
    "axs[1].set_ylabel(r\"$\\Delta_{E_{pot} - E_{Nexus}}\\ (eV)$\")\n",
    "\n",
    "useLargeSize(plt, axs[0])\n",
    "useLargeSize(plt, axs[1])\n",
    "\n",
    "plt.tight_layout()\n",
    "plt.savefig(\"./figures/c2_compare_nexus_and_ase_dft_results.png\", dpi=300)\n",
    "plt.show()"
   ]
  },
  {
   "cell_type": "code",
   "execution_count": null,
   "id": "fb808a84-3ec3-4a1b-b936-7896adab8f99",
   "metadata": {
    "execution": {
     "iopub.execute_input": "2022-04-27T03:14:01.497401Z",
     "iopub.status.busy": "2022-04-27T03:14:01.497200Z",
     "iopub.status.idle": "2022-04-27T03:14:01.823622Z",
     "shell.execute_reply": "2022-04-27T03:14:01.823169Z",
     "shell.execute_reply.started": "2022-04-27T03:14:01.497379Z"
    },
    "tags": []
   },
   "outputs": [],
   "source": [
    "test_dft_file = \"./dft/widerange_test/dft_final.traj\"\n",
    "test_forces_dft = extract_forces_norm(test_dft_file)[5:]\n",
    "test_forces_dft_mae = extract_forces(test_dft_file)[5:]\n",
    "test_energies_dft = extract_energy(test_dft_file)[5:]\n",
    "test_distances_dft = extract_distance(test_dft_file, 0, 1)[5:]\n",
    "\n",
    "test_amptorch_dft_force_file = \"./amptorch_dft/force/test_amptorch/c2_amptorch_dft.traj\"\n",
    "test_forces_amptorch_dft_force = extract_forces_norm(test_amptorch_dft_force_file)[5:]\n",
    "test_forces_amptorch_dft_force_mae = extract_forces(test_amptorch_dft_force_file)[5:]\n",
    "test_energies_amptorch_dft_force = extract_energy(test_amptorch_dft_force_file)[5:]\n",
    "test_distances_amptorch_dft_force = extract_distance(test_amptorch_dft_force_file, 0, 1)[5:]\n",
    "\n",
    "test_amptorch_dft_noforce_file = \"./amptorch_dft/noforce/test_amptorch/c2_amptorch_dft.traj\"\n",
    "test_forces_amptorch_dft_noforce = extract_forces_norm(test_amptorch_dft_noforce_file)[5:]\n",
    "test_forces_amptorch_dft_noforce_mae = extract_forces(test_amptorch_dft_noforce_file)[5:]\n",
    "test_energies_amptorch_dft_noforce = extract_energy(test_amptorch_dft_noforce_file)[5:]\n",
    "test_distances_amptorch_dft_noforce = extract_distance(test_amptorch_dft_noforce_file, 0, 1)[5:]\n",
    "\n",
    "print(min(test_distances_dft), max(test_distances_dft))"
   ]
  },
  {
   "cell_type": "code",
   "execution_count": null,
   "id": "05ba5ff6-cbc6-43b4-8823-7d546a99f215",
   "metadata": {
    "execution": {
     "iopub.execute_input": "2022-04-27T01:23:54.838002Z",
     "iopub.status.busy": "2022-04-27T01:23:54.837822Z",
     "iopub.status.idle": "2022-04-27T01:23:54.842533Z",
     "shell.execute_reply": "2022-04-27T01:23:54.842092Z",
     "shell.execute_reply.started": "2022-04-27T01:23:54.837981Z"
    },
    "tags": []
   },
   "outputs": [],
   "source": [
    "print(\n",
    "    \"MAE for amptorch DFT (force): \\t energy {:.6f} \\t force {:.6f}\".format(\n",
    "        np.sum(np.abs(test_energies_amptorch_dft_force - test_energies_dft))\n",
    "        / len(test_energies_dft),\n",
    "        np.mean(np.abs(test_forces_amptorch_dft_force_mae - test_forces_dft_mae))\n",
    "    )\n",
    ")\n",
    "\n",
    "print(\n",
    "    \"MAE for amptorch DFT (noforce):  energy {:.6f} \\t force {:.6f}\".format(\n",
    "        np.sum(np.abs(test_energies_amptorch_dft_noforce - test_energies_dft))\n",
    "        / len(test_energies_dft),\n",
    "        np.mean(np.abs(test_forces_amptorch_dft_noforce_mae - test_forces_dft_mae))\n",
    "    )\n",
    ")\n",
    "\n",
    "print(\n",
    "    len(test_energies_dft),\n",
    "    len(test_energies_amptorch_dft_force),\n",
    "    len(test_energies_amptorch_dft_noforce),\n",
    ")"
   ]
  },
  {
   "cell_type": "code",
   "execution_count": null,
   "id": "92f8c2ca-c8cb-47db-b729-990ba43bf132",
   "metadata": {
    "execution": {
     "iopub.execute_input": "2022-04-27T03:14:12.549316Z",
     "iopub.status.busy": "2022-04-27T03:14:12.549115Z",
     "iopub.status.idle": "2022-04-27T03:14:12.552003Z",
     "shell.execute_reply": "2022-04-27T03:14:12.551567Z",
     "shell.execute_reply.started": "2022-04-27T03:14:12.549295Z"
    },
    "tags": []
   },
   "outputs": [],
   "source": [
    "test_energies_dft -= min(test_energies_dft)\n",
    "test_energies_amptorch_dft_force -= min(test_energies_amptorch_dft_force)\n",
    "test_energies_amptorch_dft_noforce -= min(test_energies_amptorch_dft_noforce)"
   ]
  },
  {
   "cell_type": "code",
   "execution_count": null,
   "id": "18eb6feb-f192-4801-a4f6-84758862415a",
   "metadata": {
    "execution": {
     "iopub.execute_input": "2022-04-27T03:14:22.528230Z",
     "iopub.status.busy": "2022-04-27T03:14:22.528032Z",
     "iopub.status.idle": "2022-04-27T03:14:23.460917Z",
     "shell.execute_reply": "2022-04-27T03:14:23.460432Z",
     "shell.execute_reply.started": "2022-04-27T03:14:22.528208Z"
    },
    "tags": []
   },
   "outputs": [],
   "source": [
    "plt.style.use('default')\n",
    "\n",
    "fig, ax = plt.subplots(figsize=(8,6))\n",
    "\n",
    "ax.plot(test_distances_dft, test_energies_dft, marker=\"x\", linestyle=\"dotted\", markersize=8, c=\"k\", label=\"DFT\")\n",
    "ax.scatter(test_distances_amptorch_dft_force, test_energies_amptorch_dft_force, marker=\"v\", s=60, c=\"tab:orange\", label=\"AMPtorch DFT \\n(with force)\")\n",
    "ax.scatter(test_distances_amptorch_dft_noforce, test_energies_amptorch_dft_noforce, marker=\"^\", s=60, c=\"tab:blue\", label=\"AMPtorch DFT \\n(without force)\")\n",
    "\n",
    "\n",
    "\n",
    "ax.set_xlabel(r\"$d_{C-C}\\,(\\AA$)\")\n",
    "ax.set_ylabel(r\"$E_{pot}\\,(eV)$\")\n",
    "ax.tick_params(axis=\"y\")\n",
    "ax.yaxis.set_ticks_position(\"both\")\n",
    "ax.xaxis.set_ticks_position(\"both\")\n",
    "ax.legend(loc=(0.1, 0.65), frameon=False, fontsize=18)\n",
    "\n",
    "ax2 = plt.axes([0, 0, 1, 1])\n",
    "ip = InsetPosition(ax, [0.46, 0.10, 0.5, 0.43])\n",
    "# ip = inset_axes(ax, [0.56, 0.09, 0.4, 0.4])\n",
    "start, end = 3, 16\n",
    "ax2.set_axes_locator(ip)\n",
    "ax2.plot(test_distances_dft[start:end], test_energies_dft[start:end], marker=\"x\", linestyle=\"dotted\", markersize=8, c=\"k\", label=\"DFT\")\n",
    "ax2.scatter(test_distances_amptorch_dft_force[start:end], test_energies_amptorch_dft_force[start:end], marker=\"v\", s=60, c=\"tab:orange\", label=\"AMPtorch DFT (with force)\")\n",
    "ax2.scatter(test_distances_amptorch_dft_noforce[start:end], test_energies_amptorch_dft_noforce[start:end], marker=\"^\", s=60, c=\"tab:blue\", label=\"AMPtorch DFT (without force)\")\n",
    "\n",
    "\n",
    "ax2.yaxis.set_ticks_position(\"both\")\n",
    "ax2.xaxis.set_ticks_position(\"both\")\n",
    "\n",
    "useLargeSize(plt, ax)\n",
    "useLargeSize(plt, ax2)\n",
    "\n",
    "plt.savefig(\"./figures/c2_dft_energy_comparison_test.png\", dpi=300)\n",
    "plt.show()"
   ]
  },
  {
   "cell_type": "code",
   "execution_count": null,
   "id": "2fc66779-5bfd-42b9-b197-47ecc5f03007",
   "metadata": {
    "execution": {
     "iopub.execute_input": "2022-04-27T03:15:05.097968Z",
     "iopub.status.busy": "2022-04-27T03:15:05.097764Z",
     "iopub.status.idle": "2022-04-27T03:15:06.247034Z",
     "shell.execute_reply": "2022-04-27T03:15:06.246552Z",
     "shell.execute_reply.started": "2022-04-27T03:15:05.097946Z"
    },
    "tags": []
   },
   "outputs": [],
   "source": [
    "plt.style.use('default')\n",
    "\n",
    "fig, axs = plt.subplots(2, 1, sharex=True, figsize=(8,8), gridspec_kw={'height_ratios': [4, 1]})\n",
    "fig.subplots_adjust(hspace=0)\n",
    "\n",
    "axs[0].plot(test_energies_dft, test_energies_dft, linestyle=\"dotted\", c=\"k\", label=\"DFT\")\n",
    "axs[0].scatter(test_energies_dft, test_energies_amptorch_dft_force, marker=\"v\", s=60, c=\"tab:orange\", label=\"AMPtorch DFT (with force)\")\n",
    "axs[0].scatter(test_energies_dft, test_energies_amptorch_dft_noforce, marker=\"^\", s=60, c=\"tab:blue\", label=\"AMPtorch DFT (without force)\")\n",
    "\n",
    "\n",
    "\n",
    "axs[0].set_ylabel(r\"$E_{pred}\\,(eV)$\")\n",
    "axs[0].tick_params(axis=\"y\")\n",
    "axs[0].yaxis.set_ticks_position(\"both\")\n",
    "axs[0].xaxis.set_ticks_position(\"both\")\n",
    "axs[0].legend(loc=0, frameon=False, fontsize=18)\n",
    "\n",
    "axs[1].plot(test_energies_dft, test_energies_dft - test_energies_dft, linestyle=\"dotted\", c=\"k\", label=\"DFT\")\n",
    "axs[1].scatter(test_energies_dft, (test_energies_amptorch_dft_force-test_energies_dft), marker=\"v\", s=60, c=\"tab:orange\", label=\"AMPtorch DFT (with force)\")\n",
    "axs[1].scatter(test_energies_dft, (test_energies_amptorch_dft_noforce-test_energies_dft), marker=\"^\", s=60, c=\"tab:blue\", label=\"AMPtorch DFT (without force)\")\n",
    "\n",
    "\n",
    "axs[1].set_xlabel(r\"$E_{DFT}\\,(eV)$\")\n",
    "axs[1].set_ylabel(r\"${E_{pred} - E_{DFT}}\\,(eV)$\")\n",
    "axs[1].yaxis.set_ticks_position(\"both\")\n",
    "axs[1].xaxis.set_ticks_position(\"both\")\n",
    "useLargeSize(plt, axs[0])\n",
    "useLargeSize(plt, axs[1])\n",
    "\n",
    "plt.tight_layout()\n",
    "plt.savefig(\"./figures/c2_dft_energy_parity_test.png\", dpi=300)\n",
    "plt.show()"
   ]
  },
  {
   "cell_type": "code",
   "execution_count": null,
   "id": "436a22b2-114c-42aa-9e49-9750e6f3f398",
   "metadata": {
    "execution": {
     "iopub.execute_input": "2022-04-27T03:16:59.518582Z",
     "iopub.status.busy": "2022-04-27T03:16:59.518367Z",
     "iopub.status.idle": "2022-04-27T03:17:00.547425Z",
     "shell.execute_reply": "2022-04-27T03:17:00.546942Z",
     "shell.execute_reply.started": "2022-04-27T03:16:59.518559Z"
    },
    "tags": []
   },
   "outputs": [],
   "source": [
    "plt.style.use('default')\n",
    "\n",
    "fig, ax = plt.subplots(figsize=(8,6))\n",
    "\n",
    "ax.plot(test_distances_dft, test_forces_dft, marker=\"x\", linestyle=\"dotted\", markersize=8, c=\"k\", label=\"DFT\")\n",
    "ax.scatter(test_distances_amptorch_dft_force, test_forces_amptorch_dft_force, marker=\"v\", s=60, c=\"tab:orange\", label=\"AMPtorch DFT (with force)\")\n",
    "ax.scatter(test_distances_amptorch_dft_noforce, test_forces_amptorch_dft_noforce, marker=\"^\", s=60, c=\"tab:blue\", label=\"AMPtorch DFT (without force)\")\n",
    "\n",
    "\n",
    "\n",
    "ax.set_xlabel(r\"$d_{C-C}\\,(\\AA$)\")\n",
    "ax.set_ylabel(r\"$F\\,(eV\\cdot\\AA^{-1}$)\")\n",
    "ax.tick_params(axis=\"y\")\n",
    "ax.yaxis.set_ticks_position(\"both\")\n",
    "ax.xaxis.set_ticks_position(\"both\")\n",
    "ax.legend(loc=0, frameon=False, fontsize=18)\n",
    "\n",
    "ax2 = plt.axes([0, 0, 1, 1])\n",
    "ip = InsetPosition(ax, [0.4, 0.2, 0.55, 0.5])\n",
    "start, end = 3, 16\n",
    "ax2.set_axes_locator(ip)\n",
    "ax2.plot(test_distances_dft[start:end], test_forces_dft[start:end], marker=\"x\", linestyle=\"dotted\", markersize=8, c=\"k\", label=\"DFT\")\n",
    "ax2.scatter(test_distances_amptorch_dft_force[start:end], test_forces_amptorch_dft_force[start:end], marker=\"v\", s=60, c=\"tab:orange\", label=\"AMPtorch DFT (with force)\")\n",
    "ax2.scatter(test_distances_amptorch_dft_noforce[start:end], test_forces_amptorch_dft_noforce[start:end], marker=\"^\", s=60, c=\"tab:blue\", label=\"AMPtorch DFT (without force)\")\n",
    "\n",
    "\n",
    "ax2.yaxis.set_ticks_position(\"both\")\n",
    "ax2.xaxis.set_ticks_position(\"both\")\n",
    "useLargeSize(plt, ax)\n",
    "useLargeSize(plt, ax2)\n",
    "\n",
    "plt.savefig(\"./figures/c2_dft_force_comparison_test.png\", dpi=300)\n",
    "plt.show()"
   ]
  },
  {
   "cell_type": "code",
   "execution_count": null,
   "id": "cdfcdf52-33f2-47bc-bd23-0f56f20ee248",
   "metadata": {
    "execution": {
     "iopub.execute_input": "2022-04-27T03:18:00.205335Z",
     "iopub.status.busy": "2022-04-27T03:18:00.205123Z",
     "iopub.status.idle": "2022-04-27T03:18:01.377897Z",
     "shell.execute_reply": "2022-04-27T03:18:01.377440Z",
     "shell.execute_reply.started": "2022-04-27T03:18:00.205312Z"
    },
    "tags": []
   },
   "outputs": [],
   "source": [
    "plt.style.use('default')\n",
    "\n",
    "fig, axs = plt.subplots(2, 1, sharex=True, figsize=(8,8), gridspec_kw={'height_ratios': [4, 1]})\n",
    "fig.subplots_adjust(hspace=0)\n",
    "\n",
    "axs[0].plot(test_forces_dft_mae.flatten(), test_forces_dft_mae.flatten(), linestyle=\"dotted\", c=\"k\", label=\"DFT\")\n",
    "axs[0].scatter(test_forces_dft_mae.flatten(), test_forces_amptorch_dft_force_mae.flatten(), marker=\"v\", s=60, c=\"tab:orange\", label=\"AMPtorch DFT (with force)\")\n",
    "axs[0].scatter(test_forces_dft_mae.flatten(), test_forces_amptorch_dft_noforce_mae.flatten(), marker=\"^\", s=60, c=\"tab:blue\", label=\"AMPtorch DFT (without force)\")\n",
    "\n",
    "\n",
    "\n",
    "axs[0].set_ylabel(r\"$F_{pred}\\,(eV\\cdot\\AA^{-1}$)\")\n",
    "axs[0].tick_params(axis=\"y\")\n",
    "axs[0].yaxis.set_ticks_position(\"both\")\n",
    "axs[0].xaxis.set_ticks_position(\"both\")\n",
    "axs[0].legend(loc=0, frameon=False, fontsize=18)\n",
    "\n",
    "axs[1].plot(test_forces_dft_mae.flatten(), test_forces_dft_mae.flatten() - test_forces_dft_mae.flatten(), linestyle=\"dotted\", c=\"k\", label=\"DFT\")\n",
    "axs[1].scatter(test_forces_dft_mae.flatten(), test_forces_amptorch_dft_force_mae.flatten() - test_forces_dft_mae.flatten(), marker=\"v\", s=60, c=\"tab:orange\", label=\"AMPtorch DFT (with force)\")\n",
    "axs[1].scatter(test_forces_dft_mae.flatten(), test_forces_amptorch_dft_noforce_mae.flatten() - test_forces_dft_mae.flatten(), marker=\"^\", s=60, c=\"tab:blue\", label=\"AMPtorch DFT (without force)\")\n",
    "\n",
    "\n",
    "axs[1].yaxis.set_ticks_position(\"both\")\n",
    "axs[1].xaxis.set_ticks_position(\"both\")\n",
    "axs[1].set_xlabel(r\"$F_{DFT}\\,(eV\\cdot\\AA^{-1})$\")\n",
    "axs[1].set_ylabel(r\"$F_{pred} - F_{DFT}\\,(eV\\cdot\\AA^{-1})$\")\n",
    "\n",
    "useLargeSize(plt, axs[0])\n",
    "useLargeSize(plt, axs[1])\n",
    "\n",
    "plt.savefig(\"./figures/c2_dft_force_parity_test.png\", dpi=300)\n",
    "plt.show()"
   ]
  },
  {
   "cell_type": "markdown",
   "id": "8e3f3347-acc1-4f01-9fe9-1983c5430c1f",
   "metadata": {},
   "source": [
    "## Comparison between DFT, AMPtorch-DFT, DMC, AMPtorch-DMC on Training dataset"
   ]
  },
  {
   "cell_type": "code",
   "execution_count": null,
   "id": "f1e2cda2-c9ba-4241-b537-62746e81f314",
   "metadata": {
    "execution": {
     "iopub.execute_input": "2022-04-27T03:18:18.327291Z",
     "iopub.status.busy": "2022-04-27T03:18:18.327090Z",
     "iopub.status.idle": "2022-04-27T03:18:18.497543Z",
     "shell.execute_reply": "2022-04-27T03:18:18.497085Z",
     "shell.execute_reply.started": "2022-04-27T03:18:18.327269Z"
    },
    "tags": []
   },
   "outputs": [],
   "source": [
    "dft_file = \"./dft/widerange/dft_truncated.traj\"\n",
    "forces_dft = extract_forces_norm(dft_file)\n",
    "forces_dft_mae = extract_forces(dft_file)\n",
    "energies_dft = extract_energy(dft_file)\n",
    "distances_dft = extract_distance(dft_file, 0, 1)\n",
    "\n",
    "amptorch_dft_noforce_file = \"./amptorch_dft/noforce/check/c2_amptorch_dft.traj\"\n",
    "forces_amptorch_dft_noforce = extract_forces_norm(amptorch_dft_noforce_file)\n",
    "forces_amptorch_dft_noforce_mae = extract_forces(amptorch_dft_noforce_file)\n",
    "energies_amptorch_dft_noforce = extract_energy(amptorch_dft_noforce_file)\n",
    "distances_amptorch_dft_noforce = extract_distance(amptorch_dft_noforce_file, 0, 1)\n",
    "\n",
    "dmc_file = \"./dmc/walker4_widerrange/dmc_truncated.traj\"\n",
    "# forces_dmc = extract_forces(dmc_file)\n",
    "energies_dmc = extract_energy(dmc_file)\n",
    "distances_dmc = extract_distance(dmc_file, 0, 1)\n",
    "uncertainties = extract_error_bar(dmc_file)\n",
    "\n",
    "amptorch_dmc_file = \"./amptorch_dmc/calculate_force_train/c2_amptorch_dmc.traj\"\n",
    "forces_amptorch_dmc = extract_forces_norm(amptorch_dmc_file)\n",
    "forces_amptorch_dmc_mae = extract_forces(amptorch_dmc_file)\n",
    "energies_amptorch_dmc = extract_energy(amptorch_dmc_file)\n",
    "distances_amptorch_dmc = extract_distance(amptorch_dmc_file, 0, 1)"
   ]
  },
  {
   "cell_type": "code",
   "execution_count": null,
   "id": "390510b1-b166-45b7-a108-ff0325a7c0d0",
   "metadata": {
    "execution": {
     "iopub.execute_input": "2022-03-13T03:04:31.204096Z",
     "iopub.status.busy": "2022-03-13T03:04:31.203855Z",
     "iopub.status.idle": "2022-03-13T03:04:31.207167Z",
     "shell.execute_reply": "2022-03-13T03:04:31.206664Z",
     "shell.execute_reply.started": "2022-03-13T03:04:31.204071Z"
    },
    "tags": []
   },
   "outputs": [],
   "source": [
    "print(min(energies_amptorch_dmc))"
   ]
  },
  {
   "cell_type": "code",
   "execution_count": null,
   "id": "ae2b6003-8fad-4cd2-acd9-5713695159d9",
   "metadata": {
    "execution": {
     "iopub.execute_input": "2022-04-27T01:29:11.111003Z",
     "iopub.status.busy": "2022-04-27T01:29:11.110800Z",
     "iopub.status.idle": "2022-04-27T01:29:11.156017Z",
     "shell.execute_reply": "2022-04-27T01:29:11.155564Z",
     "shell.execute_reply.started": "2022-04-27T01:29:11.110981Z"
    },
    "tags": []
   },
   "outputs": [],
   "source": [
    "dft_traj = tr(\"./dmc/walker4_widerrange/dmc.traj\")[6:]\n",
    "dft_truc_traj = tw(\"./dmc/walker4_widerrange/dmc_truncated.traj\")\n",
    "for traj in dft_traj:\n",
    "    dft_truc_traj.write(traj)"
   ]
  },
  {
   "cell_type": "markdown",
   "id": "75728dc3-f34d-4d6d-a63d-2209d2153206",
   "metadata": {},
   "source": [
    "### Energy comparison plot"
   ]
  },
  {
   "cell_type": "code",
   "execution_count": null,
   "id": "81ad4e47-a346-4f35-b8b1-c4e2de05217e",
   "metadata": {
    "execution": {
     "iopub.execute_input": "2022-04-27T01:29:14.523631Z",
     "iopub.status.busy": "2022-04-27T01:29:14.523397Z",
     "iopub.status.idle": "2022-04-27T01:29:14.528558Z",
     "shell.execute_reply": "2022-04-27T01:29:14.528105Z",
     "shell.execute_reply.started": "2022-04-27T01:29:14.523607Z"
    },
    "tags": []
   },
   "outputs": [],
   "source": [
    "print(\n",
    "    \"MAE for amptorch DMC : \\t\\t energies: {:.6f} \\t forces: NA\".format(\n",
    "        np.sum(np.abs(energies_amptorch_dmc - energies_dmc))\n",
    "        / len(energies_dmc),\n",
    "    )\n",
    ")\n",
    "\n",
    "print(\n",
    "    \"MAE for amptorch DFT (noforce):  energies: {:.6f} \\t forces: {:.6f}\".format(\n",
    "        np.sum(np.abs(energies_amptorch_dft_noforce - energies_dft))\n",
    "        / len(energies_dft),\n",
    "        np.sum(np.abs(forces_amptorch_dft_noforce - forces_dft))\n",
    "        / len(energies_dft),\n",
    "    )\n",
    ")\n",
    "\n",
    "print(\n",
    "    len(energies_dft),\n",
    "    len(energies_amptorch_dft_force),\n",
    "    len(energies_amptorch_dft_noforce),\n",
    ")"
   ]
  },
  {
   "cell_type": "code",
   "execution_count": null,
   "id": "705495d5-3ea1-4b2d-8ab5-8a468585b8c3",
   "metadata": {
    "execution": {
     "iopub.execute_input": "2022-04-27T03:18:22.506216Z",
     "iopub.status.busy": "2022-04-27T03:18:22.506033Z",
     "iopub.status.idle": "2022-04-27T03:18:22.508867Z",
     "shell.execute_reply": "2022-04-27T03:18:22.508444Z",
     "shell.execute_reply.started": "2022-04-27T03:18:22.506195Z"
    },
    "tags": []
   },
   "outputs": [],
   "source": [
    "energies_dft -= min(energies_dft)\n",
    "energies_amptorch_dft_noforce -= min(energies_amptorch_dft_noforce)\n",
    "energies_dmc -= min(energies_dmc)\n",
    "energies_amptorch_dmc -= min(energies_amptorch_dmc)"
   ]
  },
  {
   "cell_type": "code",
   "execution_count": null,
   "id": "c8885fd1-03c8-4d9e-b079-d0e9734d6092",
   "metadata": {
    "execution": {
     "iopub.execute_input": "2022-04-05T19:22:44.047603Z",
     "iopub.status.busy": "2022-04-05T19:22:44.047351Z",
     "iopub.status.idle": "2022-04-05T19:22:44.052337Z",
     "shell.execute_reply": "2022-04-05T19:22:44.051834Z",
     "shell.execute_reply.started": "2022-04-05T19:22:44.047578Z"
    },
    "tags": []
   },
   "outputs": [],
   "source": [
    "print(distances_dmc.flatten())\n",
    "print(energies_amptorch_dmc - energies_dmc)\n",
    "print(energies_dft - energies_dmc)"
   ]
  },
  {
   "cell_type": "code",
   "execution_count": null,
   "id": "97d11125-36dc-454d-aaaa-fe9acff0ecf4",
   "metadata": {
    "execution": {
     "iopub.execute_input": "2022-04-27T03:18:30.925674Z",
     "iopub.status.busy": "2022-04-27T03:18:30.925449Z",
     "iopub.status.idle": "2022-04-27T03:18:31.996654Z",
     "shell.execute_reply": "2022-04-27T03:18:31.996188Z",
     "shell.execute_reply.started": "2022-04-27T03:18:30.925650Z"
    },
    "tags": []
   },
   "outputs": [],
   "source": [
    "plt.style.use('default')\n",
    "\n",
    "fig, ax = plt.subplots(figsize=(8,6))\n",
    "\n",
    "ax.plot(distances_dft, energies_dft, linestyle=\"dotted\", markersize=8, marker=\"x\", c=\"k\", label=\"DFT\")\n",
    "ax.scatter(distances_amptorch_dft_noforce, energies_amptorch_dft_noforce, marker=\"^\", s=60, c=\"tab:blue\", label=\"AMPtorch DFT\\n(without force)\")\n",
    "ax.errorbar(distances_dmc, energies_dmc, yerr=uncertainties, ecolor=\"k\", capsize=7, c=\"darkorange\", fmt=\".\", linestyle=\"dashdot\", label=\"DMC\")\n",
    "ax.scatter(distances_amptorch_dmc, energies_amptorch_dmc, marker=\"d\", s=60, c=\"tab:red\", label=\"AMPtorch DMC\")\n",
    "\n",
    "\n",
    "ax.set_xlabel(r\"$d_{C-C}\\,(\\AA$)\")\n",
    "ax.set_ylabel(r\"$E_{pot}\\,(eV)$\")\n",
    "ax.tick_params(axis=\"y\")\n",
    "ax.yaxis.set_ticks_position(\"both\")\n",
    "ax.xaxis.set_ticks_position(\"both\")\n",
    "ax.set_ylim(-1.0, 18)\n",
    "\n",
    "handles,labels = ax.get_legend_handles_labels()\n",
    "handles = [handles[0], handles[1], handles[3], handles[2]]\n",
    "labels = [labels[0], labels[1], labels[3], labels[2]]\n",
    "ax.legend(handles,labels, loc=(0.6, 0.0), frameon=False, fontsize=18)\n",
    "\n",
    "ax2 = plt.axes([0, 0, 1, 1])\n",
    "ip = InsetPosition(ax, [0.18, 0.57, 0.6, 0.4])\n",
    "# ip = inset_axes(ax, [0.56, 0.09, 0.4, 0.4])\n",
    "start, end = 5, 21\n",
    "ax2.set_axes_locator(ip)\n",
    "ax2.plot(distances_dft[start:end], energies_dft[start:end], linestyle=\"dotted\", markersize=8, marker=\"x\", c=\"k\", label=\"DFT\")\n",
    "ax2.scatter(distances_amptorch_dft_noforce[start:end], energies_amptorch_dft_noforce[start:end], marker=\"^\", s=60, c=\"tab:blue\", label=\"AMPtorch DFT\\n(without force)\")\n",
    "ax2.errorbar(distances_dmc[start:end], energies_dmc[start:end], yerr=uncertainties[start:end], ecolor=\"k\", capsize=7, c=\"darkorange\", fmt=\".\", linestyle=\"dashdot\", label=\"DMC\")\n",
    "ax2.scatter(distances_amptorch_dmc[start:end], energies_amptorch_dmc[start:end], marker=\"d\", s=60, c=\"tab:red\", label=\"AMPtorch DMC\")\n",
    "ax2.yaxis.set_ticks_position(\"both\")\n",
    "ax2.xaxis.set_ticks_position(\"both\")\n",
    "useLargeSize(plt, ax)\n",
    "useLargeSize(plt, ax2)\n",
    "\n",
    "plt.savefig(\"./figures/c2_dmc_energy_comparison.png\", dpi=300)\n",
    "plt.show()"
   ]
  },
  {
   "cell_type": "markdown",
   "id": "68135c4f-95e9-4ee2-8418-b504c29032fe",
   "metadata": {},
   "source": [
    "### DMC Energy parity plots"
   ]
  },
  {
   "cell_type": "code",
   "execution_count": null,
   "id": "9113a03e-246c-48d0-8713-30cd547ac6c6",
   "metadata": {
    "execution": {
     "iopub.execute_input": "2022-04-27T03:19:16.444277Z",
     "iopub.status.busy": "2022-04-27T03:19:16.444080Z",
     "iopub.status.idle": "2022-04-27T03:19:17.629061Z",
     "shell.execute_reply": "2022-04-27T03:19:17.628608Z",
     "shell.execute_reply.started": "2022-04-27T03:19:16.444255Z"
    },
    "tags": []
   },
   "outputs": [],
   "source": [
    "plt.style.use('default')\n",
    "\n",
    "fig, axs = plt.subplots(2, 1, sharex=True, figsize=(8,8), gridspec_kw={'height_ratios': [4, 1]})\n",
    "fig.subplots_adjust(hspace=0)\n",
    "\n",
    "axs[0].errorbar(energies_dmc, energies_dmc, yerr=uncertainties, ecolor=\"k\", capsize=7, c=\"darkorange\", fmt=\".\", linestyle=\"dashdot\", label=\"DMC\")\n",
    "axs[0].scatter(energies_dmc, energies_amptorch_dmc, marker=\"d\", s=60, c=\"tab:red\", label=\"AMPtorch DMC\")\n",
    "\n",
    "axs[0].set_ylabel(r\"$E_{pred}\\,(eV)$\")\n",
    "axs[0].tick_params(axis=\"y\")\n",
    "axs[0].yaxis.set_ticks_position(\"both\")\n",
    "axs[0].xaxis.set_ticks_position(\"both\")\n",
    "handles,labels = axs[0].get_legend_handles_labels()\n",
    "handles = [handles[1], handles[0]]\n",
    "labels = [labels[1], labels[0]]\n",
    "axs[0].legend(handles, labels, loc=0, frameon=False, fontsize=18)\n",
    "\n",
    "axs[1].errorbar(energies_dmc, energies_dmc-energies_dmc, yerr=uncertainties, ecolor=\"k\", capsize=7, c=\"darkorange\", fmt=\".\", linestyle=\"dashdot\", label=\"DMC\")\n",
    "axs[1].scatter(energies_dmc, (energies_amptorch_dmc-energies_dmc), marker=\"d\", s=60, c=\"tab:red\", label=\"AMPtorch DMC\")\n",
    "\n",
    "axs[1].set_xlabel(r\"$E_{DMC}\\,(eV)$\")\n",
    "axs[1].set_ylabel(r\"$E_{pred} - E_{DMC}\\,(eV)$\")\n",
    "axs[1].yaxis.set_ticks_position(\"both\")\n",
    "axs[1].xaxis.set_ticks_position(\"both\")\n",
    "useLargeSize(plt, axs[0])\n",
    "useLargeSize(plt, axs[1])\n",
    "\n",
    "plt.savefig(\"./figures/c2_dmc_energy_parity.png\", dpi=300)\n",
    "plt.show()"
   ]
  },
  {
   "cell_type": "markdown",
   "id": "03b6f29e-69c6-486a-ad01-72c1fbd70e97",
   "metadata": {},
   "source": [
    "### Force comparison between DFT, AMPtorch DFT and AMPtorch DMC\n",
    "\n",
    "Not sure if we need this comparion as the forces are calculated by different methods."
   ]
  },
  {
   "cell_type": "code",
   "execution_count": null,
   "id": "fc4370ee-5773-4393-b8d0-c93dda88cfcf",
   "metadata": {
    "execution": {
     "iopub.execute_input": "2022-04-27T03:20:07.010830Z",
     "iopub.status.busy": "2022-04-27T03:20:07.010627Z",
     "iopub.status.idle": "2022-04-27T03:20:07.995836Z",
     "shell.execute_reply": "2022-04-27T03:20:07.995337Z",
     "shell.execute_reply.started": "2022-04-27T03:20:07.010809Z"
    },
    "tags": []
   },
   "outputs": [],
   "source": [
    "plt.style.use('default')\n",
    "\n",
    "fig, ax = plt.subplots(figsize=(8,6))\n",
    "\n",
    "ax.plot(distances_dft, forces_dft, linestyle=\"dotted\", markersize=8, marker=\"x\", c=\"k\", label=\"DFT\")\n",
    "ax.scatter(distances_amptorch_dft_noforce, forces_amptorch_dft_noforce,  marker=\"^\", s=60, c=\"tab:blue\", label=\"AMPtorch DFT\\n(without force)\")\n",
    "ax.scatter(distances_amptorch_dmc, forces_amptorch_dmc, marker=\"d\", s=60, c=\"tab:red\", label=\"AMPtorch DMC\")\n",
    "\n",
    "\n",
    "ax.set_xlabel(r\"$d_{C-C}\\,(\\AA$)\")\n",
    "ax.set_ylabel(r\"$F\\,(eV\\cdot\\AA^{-1}$)\")\n",
    "ax.tick_params(axis=\"y\")\n",
    "ax.yaxis.set_ticks_position(\"both\")\n",
    "ax.xaxis.set_ticks_position(\"both\")\n",
    "ax.legend(loc=0, frameon=False, fontsize=18)\n",
    "\n",
    "ax2 = plt.axes([0, 0, 1, 1])\n",
    "ip = InsetPosition(ax, [0.35, 0.2, 0.6, 0.5])\n",
    "start, end = 5, 21\n",
    "ax2.set_axes_locator(ip)\n",
    "ax2.plot(distances_dft[start:end], forces_dft[start:end], linestyle=\"dotted\", markersize=8, marker=\"x\", c=\"k\", label=\"DFT\")\n",
    "ax2.scatter(distances_amptorch_dft_noforce[start:end], forces_amptorch_dft_noforce[start:end], marker=\"^\", s=60, c=\"tab:blue\", label=\"AMPtorch DFT\\n(without force)\")\n",
    "ax2.scatter(distances_amptorch_dft_force[start:end], forces_amptorch_dmc[start:end], marker=\"d\", s=60, c=\"tab:red\", label=\"AMPtorch DMC\")\n",
    "\n",
    "ax2.yaxis.set_ticks_position(\"both\")\n",
    "ax2.xaxis.set_ticks_position(\"both\")\n",
    "useLargeSize(plt, ax)\n",
    "useLargeSize(plt, ax2)\n",
    "\n",
    "plt.savefig(\"./figures/c2_dmc_force_comparison.png\", dpi=300)\n",
    "plt.show()"
   ]
  },
  {
   "cell_type": "markdown",
   "id": "81e2ea19-1dad-4735-9d22-3d571885130d",
   "metadata": {},
   "source": [
    "## Comparison between DFT, AMPtorch-DFT, DMC, AMPtorch-DMC on Test dataset"
   ]
  },
  {
   "cell_type": "code",
   "execution_count": 52,
   "id": "01a5ef5a-4f40-4b78-8c27-24cae7411c2a",
   "metadata": {
    "execution": {
     "iopub.execute_input": "2022-04-27T03:20:23.783338Z",
     "iopub.status.busy": "2022-04-27T03:20:23.783127Z",
     "iopub.status.idle": "2022-04-27T03:20:24.155338Z",
     "shell.execute_reply": "2022-04-27T03:20:24.154879Z",
     "shell.execute_reply.started": "2022-04-27T03:20:23.783316Z"
    },
    "tags": []
   },
   "outputs": [
    {
     "name": "stdout",
     "output_type": "stream",
     "text": [
      "['C', 'C']\n",
      "Get distance between atom 0 and atom 1\n",
      "['C', 'C']\n",
      "Get distance between atom 0 and atom 1\n",
      "['C', 'C']\n",
      "Get distance between atom 0 and atom 1\n",
      "['C', 'C']\n",
      "Get distance between atom 0 and atom 1\n"
     ]
    }
   ],
   "source": [
    "test_dft_file = \"./dft/widerange_test/dft_final.traj\"\n",
    "test_forces_dft = extract_forces(test_dft_file)[5:]\n",
    "test_energies_dft = extract_energy(test_dft_file)[5:]\n",
    "test_distances_dft = extract_distance(test_dft_file, 0, 1)[5:]\n",
    "\n",
    "test_amptorch_dft_noforce_file = \"./amptorch_dft/noforce/test_amptorch/c2_amptorch_dft.traj\"\n",
    "test_forces_amptorch_dft_noforce = extract_forces(test_amptorch_dft_noforce_file)[5:]\n",
    "test_energies_amptorch_dft_noforce = extract_energy(test_amptorch_dft_noforce_file)[5:]\n",
    "test_distances_amptorch_dft_noforce = extract_distance(test_amptorch_dft_noforce_file, 0, 1)[5:]\n",
    "\n",
    "test_dmc_file = \"./test_dataset/DMC/dmc.traj\"\n",
    "# forces_dmc = extract_forces(dmc_file)\n",
    "test_energies_dmc = extract_energy(test_dmc_file)[5:]\n",
    "test_distances_dmc = extract_distance(test_dmc_file, 0, 1)[5:]\n",
    "test_uncertainties = extract_error_bar(test_dmc_file)[5:]\n",
    "\n",
    "test_amptorch_dmc_file = \"./amptorch_dmc/test/c2_amptorch_dmc.traj\"\n",
    "test_forces_amptorch_dmc = extract_forces(test_amptorch_dmc_file)[5:]\n",
    "test_energies_amptorch_dmc = extract_energy(test_amptorch_dmc_file)[5:]\n",
    "test_distances_amptorch_dmc = extract_distance(test_amptorch_dmc_file, 0, 1)[5:]"
   ]
  },
  {
   "cell_type": "code",
   "execution_count": 53,
   "id": "6e5c7a4b-b27e-4d29-bff4-61f6d496dfb6",
   "metadata": {
    "execution": {
     "iopub.execute_input": "2022-04-11T01:15:35.491946Z",
     "iopub.status.busy": "2022-04-11T01:15:35.491731Z",
     "iopub.status.idle": "2022-04-11T01:15:35.495403Z",
     "shell.execute_reply": "2022-04-11T01:15:35.494921Z",
     "shell.execute_reply.started": "2022-04-11T01:15:35.491923Z"
    },
    "tags": []
   },
   "outputs": [
    {
     "name": "stdout",
     "output_type": "stream",
     "text": [
      "55 55 55 55\n"
     ]
    }
   ],
   "source": [
    "print(len(test_energies_dft), len(test_energies_amptorch_dft_noforce), len(test_energies_dmc), len(test_energies_amptorch_dmc))"
   ]
  },
  {
   "cell_type": "code",
   "execution_count": 57,
   "id": "02736737-d285-4745-b6e9-29c560a96a54",
   "metadata": {
    "execution": {
     "iopub.execute_input": "2022-04-27T03:20:26.590716Z",
     "iopub.status.busy": "2022-04-27T03:20:26.590531Z",
     "iopub.status.idle": "2022-04-27T03:20:26.593363Z",
     "shell.execute_reply": "2022-04-27T03:20:26.592939Z",
     "shell.execute_reply.started": "2022-04-27T03:20:26.590695Z"
    },
    "tags": []
   },
   "outputs": [],
   "source": [
    "test_energies_dft -= min(test_energies_dft)\n",
    "test_energies_amptorch_dft_noforce -= min(test_energies_amptorch_dft_noforce)\n",
    "test_energies_dmc -= min(test_energies_dmc)\n",
    "test_energies_amptorch_dmc -= min(test_energies_amptorch_dmc)"
   ]
  },
  {
   "cell_type": "code",
   "execution_count": 54,
   "id": "46f1de88-784d-48c4-9a69-c26529a85ca2",
   "metadata": {
    "execution": {
     "iopub.execute_input": "2022-04-27T01:48:01.775240Z",
     "iopub.status.busy": "2022-04-27T01:48:01.775036Z",
     "iopub.status.idle": "2022-04-27T01:48:01.777851Z",
     "shell.execute_reply": "2022-04-27T01:48:01.777406Z",
     "shell.execute_reply.started": "2022-04-27T01:48:01.775218Z"
    },
    "tags": []
   },
   "outputs": [],
   "source": [
    "def calculate_mae(true, pred):\n",
    "    return np.mean(np.abs(true - pred))"
   ]
  },
  {
   "cell_type": "code",
   "execution_count": 55,
   "id": "21d63e1e-065b-4770-9af1-fdfa9f5efc9e",
   "metadata": {
    "execution": {
     "iopub.execute_input": "2022-04-27T01:48:02.956246Z",
     "iopub.status.busy": "2022-04-27T01:48:02.956059Z",
     "iopub.status.idle": "2022-04-27T01:48:02.959330Z",
     "shell.execute_reply": "2022-04-27T01:48:02.958888Z",
     "shell.execute_reply.started": "2022-04-27T01:48:02.956225Z"
    },
    "tags": []
   },
   "outputs": [
    {
     "name": "stdout",
     "output_type": "stream",
     "text": [
      "0.08595704233569822\n",
      "0.09440184115767145\n"
     ]
    }
   ],
   "source": [
    "print(calculate_mae(test_energies_dft, test_energies_amptorch_dft_noforce))\n",
    "print(calculate_mae(test_energies_dmc, test_energies_amptorch_dmc))"
   ]
  },
  {
   "cell_type": "code",
   "execution_count": 59,
   "id": "b9813bab-475d-45f0-a661-06a6377d1197",
   "metadata": {
    "execution": {
     "iopub.execute_input": "2022-04-27T03:20:35.168832Z",
     "iopub.status.busy": "2022-04-27T03:20:35.168628Z",
     "iopub.status.idle": "2022-04-27T03:20:36.162727Z",
     "shell.execute_reply": "2022-04-27T03:20:36.162268Z",
     "shell.execute_reply.started": "2022-04-27T03:20:35.168810Z"
    },
    "tags": []
   },
   "outputs": [
    {
     "name": "stderr",
     "output_type": "stream",
     "text": [
      "/users/chuang25/data/chuang25/local/util/publish_format.py:42: UserWarning: This figure includes Axes that are not compatible with tight_layout, so results might be incorrect.\n",
      "  plt.tight_layout()\n"
     ]
    },
    {
     "data": {
      "image/png": "[encoded data removed]",
      "text/plain": [
       "<Figure size 800x600 with 2 Axes>"
      ]
     },
     "metadata": {},
     "output_type": "display_data"
    }
   ],
   "source": [
    "plt.style.use('default')\n",
    "\n",
    "fig, ax = plt.subplots(figsize=(8,6))\n",
    "\n",
    "ax.plot(test_distances_dft, test_energies_dft, linestyle=\"dotted\", markersize=8, marker=\"x\", c=\"k\", label=\"DFT\")\n",
    "ax.scatter(test_distances_amptorch_dft_noforce, test_energies_amptorch_dft_noforce, marker=\"^\", s=60, c=\"tab:blue\", label=\"AMPtorch DFT\\n(without force)\")\n",
    "ax.errorbar(test_distances_dmc, test_energies_dmc, yerr=test_uncertainties, ecolor=\"k\", capsize=7, c=\"darkorange\", fmt=\".\", linestyle=\"dashdot\", label=\"DMC\")\n",
    "ax.scatter(test_distances_amptorch_dmc, test_energies_amptorch_dmc, marker=\"d\", s=60, c=\"tab:red\", label=\"AMPtorch DMC\")\n",
    "\n",
    "ax.set_xlabel(r\"$d_{C-C}\\,(\\AA$)\")\n",
    "ax.set_ylabel(r\"$E_{pot}\\,(eV)$\")\n",
    "ax.tick_params(axis=\"y\")\n",
    "ax.yaxis.set_ticks_position(\"both\")\n",
    "ax.xaxis.set_ticks_position(\"both\")\n",
    "ax.set_ylim(-1.0, 18)\n",
    "handles,labels = ax.get_legend_handles_labels()\n",
    "handles = [handles[0], handles[1], handles[3], handles[2]]\n",
    "labels = [labels[0], labels[1], labels[3], labels[2]]\n",
    "ax.legend(handles,labels, loc=(0.6, 0.0), frameon=False, fontsize=18)\n",
    "\n",
    "\n",
    "ax2 = plt.axes([0, 0, 1, 1])\n",
    "ip = InsetPosition(ax, [0.18, 0.57, 0.6, 0.4])\n",
    "# ip = inset_axes(ax, [0.56, 0.09, 0.4, 0.4])\n",
    "start, end = 3, 16\n",
    "ax2.set_axes_locator(ip)\n",
    "ax2.plot(test_distances_dft[start:end], test_energies_dft[start:end], linestyle=\"dotted\", markersize=8, marker=\"x\", c=\"k\", label=\"DFT\")\n",
    "ax2.scatter(test_distances_amptorch_dft_noforce[start:end], test_energies_amptorch_dft_noforce[start:end],marker=\"^\", s=60, c=\"tab:blue\", label=\"AMPtorch DFT\\n(without force)\")\n",
    "ax2.errorbar(test_distances_dmc[start:end], test_energies_dmc[start:end], yerr=test_uncertainties[start:end], ecolor=\"k\", capsize=7, c=\"darkorange\", fmt=\".\", linestyle=\"dashdot\", label=\"DMC\")\n",
    "ax2.scatter(test_distances_amptorch_dmc[start:end], test_energies_amptorch_dmc[start:end], marker=\"d\", s=60, c=\"tab:red\", label=\"AMPtorch DMC\")\n",
    "\n",
    "ax2.yaxis.set_ticks_position(\"both\")\n",
    "ax2.xaxis.set_ticks_position(\"both\")\n",
    "\n",
    "useLargeSize(plt, ax)\n",
    "useLargeSize(plt, ax2)\n",
    "\n",
    "plt.savefig(\"./figures/c2_dmc_energy_comparison_test.png\", dpi=300)\n",
    "plt.show()"
   ]
  },
  {
   "cell_type": "code",
   "execution_count": 60,
   "id": "999cc5d6-b5e8-4d93-9653-ebb582ce4bfd",
   "metadata": {
    "execution": {
     "iopub.execute_input": "2022-04-27T03:21:04.014385Z",
     "iopub.status.busy": "2022-04-27T03:21:04.014175Z",
     "iopub.status.idle": "2022-04-27T03:21:05.236009Z",
     "shell.execute_reply": "2022-04-27T03:21:05.235545Z",
     "shell.execute_reply.started": "2022-04-27T03:21:04.014362Z"
    },
    "tags": []
   },
   "outputs": [
    {
     "data": {
      "image/png": "[encoded data removed]",
      "text/plain": [
       "<Figure size 800x800 with 2 Axes>"
      ]
     },
     "metadata": {},
     "output_type": "display_data"
    }
   ],
   "source": [
    "plt.style.use('default')\n",
    "\n",
    "fig, axs = plt.subplots(2, 1, sharex=True, figsize=(8,8), gridspec_kw={'height_ratios': [4, 1]})\n",
    "fig.subplots_adjust(hspace=0)\n",
    "\n",
    "axs[0].errorbar(test_energies_dmc, test_energies_dmc, yerr=test_uncertainties, ecolor=\"k\", capsize=7, c=\"darkorange\", fmt=\".\", linestyle=\"dashdot\", label=\"DMC\")\n",
    "axs[0].scatter(test_energies_dmc, test_energies_amptorch_dmc, marker=\"d\", s=60, c=\"tab:red\", label=\"AMPtorch DMC\")\n",
    "\n",
    "axs[0].set_ylabel(r\"$E_{pred}\\,(eV)$\")\n",
    "axs[0].tick_params(axis=\"y\")\n",
    "axs[0].yaxis.set_ticks_position(\"both\")\n",
    "axs[0].xaxis.set_ticks_position(\"both\")\n",
    "handles,labels = axs[0].get_legend_handles_labels()\n",
    "handles = [handles[1], handles[0]]\n",
    "labels = [labels[1], labels[0]]\n",
    "axs[0].legend(handles, labels, loc=0, frameon=False, fontsize=18)\n",
    "\n",
    "axs[1].errorbar(test_energies_dmc, test_energies_dmc-test_energies_dmc, yerr=test_uncertainties, ecolor=\"k\", capsize=7, c=\"darkorange\", fmt=\".\", linestyle=\"dashdot\", label=\"DMC\")\n",
    "axs[1].scatter(test_energies_dmc, (test_energies_amptorch_dmc-test_energies_dmc), marker=\"d\", s=60, c=\"tab:red\", label=\"AMPtorch DMC\")\n",
    "\n",
    "axs[1].set_xlabel(r\"$E_{DMC}\\,(eV)$\")\n",
    "axs[1].set_ylabel(r\"$E_{pred} - E_{DMC}\\,(eV)$\")\n",
    "\n",
    "axs[1].yaxis.set_ticks_position(\"both\")\n",
    "axs[1].xaxis.set_ticks_position(\"both\")\n",
    "useLargeSize(plt, axs[0])\n",
    "useLargeSize(plt, axs[1])\n",
    "\n",
    "plt.savefig(\"./figures/c2_dmc_energy_parity_test.png\", dpi=300)\n",
    "plt.show()"
   ]
  },
  {
   "cell_type": "code",
   "execution_count": 61,
   "id": "0da513c0-79cf-4edc-8ab8-eef67481df3b",
   "metadata": {
    "execution": {
     "iopub.execute_input": "2022-04-27T03:21:30.420260Z",
     "iopub.status.busy": "2022-04-27T03:21:30.420054Z",
     "iopub.status.idle": "2022-04-27T03:21:31.389831Z",
     "shell.execute_reply": "2022-04-27T03:21:31.389333Z",
     "shell.execute_reply.started": "2022-04-27T03:21:30.420237Z"
    },
    "tags": []
   },
   "outputs": [
    {
     "ename": "ValueError",
     "evalue": "x and y can be no greater than 2-D, but have shapes (55,) and (55, 2, 3)",
     "output_type": "error",
     "traceback": [
      "\u001b[0;31m---------------------------------------------------------------------------\u001b[0m",
      "\u001b[0;31mValueError\u001b[0m                                Traceback (most recent call last)",
      "\u001b[0;32m<ipython-input-61-471449d93c9d>\u001b[0m in \u001b[0;36m<module>\u001b[0;34m()\u001b[0m\n\u001b[1;32m      3\u001b[0m \u001b[0mfig\u001b[0m\u001b[0;34m,\u001b[0m \u001b[0max\u001b[0m \u001b[0;34m=\u001b[0m \u001b[0mplt\u001b[0m\u001b[0;34m.\u001b[0m\u001b[0msubplots\u001b[0m\u001b[0;34m(\u001b[0m\u001b[0mfigsize\u001b[0m\u001b[0;34m=\u001b[0m\u001b[0;34m(\u001b[0m\u001b[0;36m8\u001b[0m\u001b[0;34m,\u001b[0m\u001b[0;36m6\u001b[0m\u001b[0;34m)\u001b[0m\u001b[0;34m)\u001b[0m\u001b[0;34m\u001b[0m\u001b[0;34m\u001b[0m\u001b[0m\n\u001b[1;32m      4\u001b[0m \u001b[0;34m\u001b[0m\u001b[0m\n\u001b[0;32m----> 5\u001b[0;31m \u001b[0max\u001b[0m\u001b[0;34m.\u001b[0m\u001b[0mplot\u001b[0m\u001b[0;34m(\u001b[0m\u001b[0mtest_distances_dft\u001b[0m\u001b[0;34m,\u001b[0m \u001b[0mtest_forces_dft\u001b[0m\u001b[0;34m,\u001b[0m \u001b[0mlinestyle\u001b[0m\u001b[0;34m=\u001b[0m\u001b[0;34m\"dotted\"\u001b[0m\u001b[0;34m,\u001b[0m \u001b[0mmarkersize\u001b[0m\u001b[0;34m=\u001b[0m\u001b[0;36m8\u001b[0m\u001b[0;34m,\u001b[0m \u001b[0mmarker\u001b[0m\u001b[0;34m=\u001b[0m\u001b[0;34m\"x\"\u001b[0m\u001b[0;34m,\u001b[0m \u001b[0mc\u001b[0m\u001b[0;34m=\u001b[0m\u001b[0;34m\"k\"\u001b[0m\u001b[0;34m,\u001b[0m \u001b[0mlabel\u001b[0m\u001b[0;34m=\u001b[0m\u001b[0;34m\"DFT\"\u001b[0m\u001b[0;34m)\u001b[0m\u001b[0;34m\u001b[0m\u001b[0;34m\u001b[0m\u001b[0m\n\u001b[0m\u001b[1;32m      6\u001b[0m \u001b[0max\u001b[0m\u001b[0;34m.\u001b[0m\u001b[0mscatter\u001b[0m\u001b[0;34m(\u001b[0m\u001b[0mtest_distances_amptorch_dft_noforce\u001b[0m\u001b[0;34m,\u001b[0m \u001b[0mtest_forces_amptorch_dft_noforce\u001b[0m\u001b[0;34m,\u001b[0m \u001b[0mmarker\u001b[0m\u001b[0;34m=\u001b[0m\u001b[0;34m\"^\"\u001b[0m\u001b[0;34m,\u001b[0m \u001b[0ms\u001b[0m\u001b[0;34m=\u001b[0m\u001b[0;36m60\u001b[0m\u001b[0;34m,\u001b[0m \u001b[0mc\u001b[0m\u001b[0;34m=\u001b[0m\u001b[0;34m\"tab:blue\"\u001b[0m\u001b[0;34m,\u001b[0m \u001b[0mlabel\u001b[0m\u001b[0;34m=\u001b[0m\u001b[0;34m\"AMPtorch DFT\\n(without force)\"\u001b[0m\u001b[0;34m)\u001b[0m\u001b[0;34m\u001b[0m\u001b[0;34m\u001b[0m\u001b[0m\n\u001b[1;32m      7\u001b[0m \u001b[0max\u001b[0m\u001b[0;34m.\u001b[0m\u001b[0mscatter\u001b[0m\u001b[0;34m(\u001b[0m\u001b[0mtest_distances_amptorch_dmc\u001b[0m\u001b[0;34m,\u001b[0m \u001b[0mtest_forces_amptorch_dmc\u001b[0m\u001b[0;34m,\u001b[0m \u001b[0mmarker\u001b[0m\u001b[0;34m=\u001b[0m\u001b[0;34m\"d\"\u001b[0m\u001b[0;34m,\u001b[0m \u001b[0ms\u001b[0m\u001b[0;34m=\u001b[0m\u001b[0;36m60\u001b[0m\u001b[0;34m,\u001b[0m \u001b[0mc\u001b[0m\u001b[0;34m=\u001b[0m\u001b[0;34m\"tab:red\"\u001b[0m\u001b[0;34m,\u001b[0m \u001b[0mlabel\u001b[0m\u001b[0;34m=\u001b[0m\u001b[0;34m\"AMPtorch DMC\"\u001b[0m\u001b[0;34m)\u001b[0m\u001b[0;34m\u001b[0m\u001b[0;34m\u001b[0m\u001b[0m\n",
      "\u001b[0;32m/gpfs/data/brubenst/chuang25/local/miniconda3/envs/ml/lib/python3.6/site-packages/matplotlib/axes/_axes.py\u001b[0m in \u001b[0;36mplot\u001b[0;34m(self, scalex, scaley, data, *args, **kwargs)\u001b[0m\n\u001b[1;32m   1741\u001b[0m         \"\"\"\n\u001b[1;32m   1742\u001b[0m         \u001b[0mkwargs\u001b[0m \u001b[0;34m=\u001b[0m \u001b[0mcbook\u001b[0m\u001b[0;34m.\u001b[0m\u001b[0mnormalize_kwargs\u001b[0m\u001b[0;34m(\u001b[0m\u001b[0mkwargs\u001b[0m\u001b[0;34m,\u001b[0m \u001b[0mmlines\u001b[0m\u001b[0;34m.\u001b[0m\u001b[0mLine2D\u001b[0m\u001b[0;34m)\u001b[0m\u001b[0;34m\u001b[0m\u001b[0;34m\u001b[0m\u001b[0m\n\u001b[0;32m-> 1743\u001b[0;31m         \u001b[0mlines\u001b[0m \u001b[0;34m=\u001b[0m \u001b[0;34m[\u001b[0m\u001b[0;34m*\u001b[0m\u001b[0mself\u001b[0m\u001b[0;34m.\u001b[0m\u001b[0m_get_lines\u001b[0m\u001b[0;34m(\u001b[0m\u001b[0;34m*\u001b[0m\u001b[0margs\u001b[0m\u001b[0;34m,\u001b[0m \u001b[0mdata\u001b[0m\u001b[0;34m=\u001b[0m\u001b[0mdata\u001b[0m\u001b[0;34m,\u001b[0m \u001b[0;34m**\u001b[0m\u001b[0mkwargs\u001b[0m\u001b[0;34m)\u001b[0m\u001b[0;34m]\u001b[0m\u001b[0;34m\u001b[0m\u001b[0;34m\u001b[0m\u001b[0m\n\u001b[0m\u001b[1;32m   1744\u001b[0m         \u001b[0;32mfor\u001b[0m \u001b[0mline\u001b[0m \u001b[0;32min\u001b[0m \u001b[0mlines\u001b[0m\u001b[0;34m:\u001b[0m\u001b[0;34m\u001b[0m\u001b[0;34m\u001b[0m\u001b[0m\n\u001b[1;32m   1745\u001b[0m             \u001b[0mself\u001b[0m\u001b[0;34m.\u001b[0m\u001b[0madd_line\u001b[0m\u001b[0;34m(\u001b[0m\u001b[0mline\u001b[0m\u001b[0;34m)\u001b[0m\u001b[0;34m\u001b[0m\u001b[0;34m\u001b[0m\u001b[0m\n",
      "\u001b[0;32m/gpfs/data/brubenst/chuang25/local/miniconda3/envs/ml/lib/python3.6/site-packages/matplotlib/axes/_base.py\u001b[0m in \u001b[0;36m__call__\u001b[0;34m(self, data, *args, **kwargs)\u001b[0m\n\u001b[1;32m    271\u001b[0m                 \u001b[0mthis\u001b[0m \u001b[0;34m+=\u001b[0m \u001b[0margs\u001b[0m\u001b[0;34m[\u001b[0m\u001b[0;36m0\u001b[0m\u001b[0;34m]\u001b[0m\u001b[0;34m,\u001b[0m\u001b[0;34m\u001b[0m\u001b[0;34m\u001b[0m\u001b[0m\n\u001b[1;32m    272\u001b[0m                 \u001b[0margs\u001b[0m \u001b[0;34m=\u001b[0m \u001b[0margs\u001b[0m\u001b[0;34m[\u001b[0m\u001b[0;36m1\u001b[0m\u001b[0;34m:\u001b[0m\u001b[0;34m]\u001b[0m\u001b[0;34m\u001b[0m\u001b[0;34m\u001b[0m\u001b[0m\n\u001b[0;32m--> 273\u001b[0;31m             \u001b[0;32myield\u001b[0m \u001b[0;32mfrom\u001b[0m \u001b[0mself\u001b[0m\u001b[0;34m.\u001b[0m\u001b[0m_plot_args\u001b[0m\u001b[0;34m(\u001b[0m\u001b[0mthis\u001b[0m\u001b[0;34m,\u001b[0m \u001b[0mkwargs\u001b[0m\u001b[0;34m)\u001b[0m\u001b[0;34m\u001b[0m\u001b[0;34m\u001b[0m\u001b[0m\n\u001b[0m\u001b[1;32m    274\u001b[0m \u001b[0;34m\u001b[0m\u001b[0m\n\u001b[1;32m    275\u001b[0m     \u001b[0;32mdef\u001b[0m \u001b[0mget_next_color\u001b[0m\u001b[0;34m(\u001b[0m\u001b[0mself\u001b[0m\u001b[0;34m)\u001b[0m\u001b[0;34m:\u001b[0m\u001b[0;34m\u001b[0m\u001b[0;34m\u001b[0m\u001b[0m\n",
      "\u001b[0;32m/gpfs/data/brubenst/chuang25/local/miniconda3/envs/ml/lib/python3.6/site-packages/matplotlib/axes/_base.py\u001b[0m in \u001b[0;36m_plot_args\u001b[0;34m(self, tup, kwargs)\u001b[0m\n\u001b[1;32m    400\u001b[0m                              f\"have shapes {x.shape} and {y.shape}\")\n\u001b[1;32m    401\u001b[0m         \u001b[0;32mif\u001b[0m \u001b[0mx\u001b[0m\u001b[0;34m.\u001b[0m\u001b[0mndim\u001b[0m \u001b[0;34m>\u001b[0m \u001b[0;36m2\u001b[0m \u001b[0;32mor\u001b[0m \u001b[0my\u001b[0m\u001b[0;34m.\u001b[0m\u001b[0mndim\u001b[0m \u001b[0;34m>\u001b[0m \u001b[0;36m2\u001b[0m\u001b[0;34m:\u001b[0m\u001b[0;34m\u001b[0m\u001b[0;34m\u001b[0m\u001b[0m\n\u001b[0;32m--> 402\u001b[0;31m             raise ValueError(f\"x and y can be no greater than 2-D, but have \"\n\u001b[0m\u001b[1;32m    403\u001b[0m                              f\"shapes {x.shape} and {y.shape}\")\n\u001b[1;32m    404\u001b[0m         \u001b[0;32mif\u001b[0m \u001b[0mx\u001b[0m\u001b[0;34m.\u001b[0m\u001b[0mndim\u001b[0m \u001b[0;34m==\u001b[0m \u001b[0;36m1\u001b[0m\u001b[0;34m:\u001b[0m\u001b[0;34m\u001b[0m\u001b[0;34m\u001b[0m\u001b[0m\n",
      "\u001b[0;31mValueError\u001b[0m: x and y can be no greater than 2-D, but have shapes (55,) and (55, 2, 3)"
     ]
    },
    {
     "data": {
      "image/png": "[encoded data removed]",
      "text/plain": [
       "<Figure size 800x600 with 1 Axes>"
      ]
     },
     "metadata": {},
     "output_type": "display_data"
    }
   ],
   "source": [
    "plt.style.use('default')\n",
    "\n",
    "fig, ax = plt.subplots(figsize=(8,6))\n",
    "\n",
    "ax.plot(test_distances_dft, test_forces_dft, linestyle=\"dotted\", markersize=8, marker=\"x\", c=\"k\", label=\"DFT\")\n",
    "ax.scatter(test_distances_amptorch_dft_noforce, test_forces_amptorch_dft_noforce, marker=\"^\", s=60, c=\"tab:blue\", label=\"AMPtorch DFT\\n(without force)\")\n",
    "ax.scatter(test_distances_amptorch_dmc, test_forces_amptorch_dmc, marker=\"d\", s=60, c=\"tab:red\", label=\"AMPtorch DMC\")\n",
    "\n",
    "ax.set_xlabel(r\"$d_{C-C}\\,(\\AA$)\")\n",
    "ax.set_ylabel(r\"$F\\,(eV\\cdot\\AA^{-1}$)\")\n",
    "ax.tick_params(axis=\"y\")\n",
    "ax.yaxis.set_ticks_position(\"both\")\n",
    "ax.xaxis.set_ticks_position(\"both\")\n",
    "ax.legend(loc=0, frameon=False, fontsize=18)\n",
    "\n",
    "ax2 = plt.axes([0, 0, 1, 1])\n",
    "ip = InsetPosition(ax, [0.35, 0.2, 0.6, 0.5])\n",
    "start, end = 3, 16\n",
    "ax2.set_axes_locator(ip)\n",
    "ax2.plot(test_distances_dft[start:end], test_forces_dft[start:end], linestyle=\"dotted\", markersize=8, marker=\"x\", c=\"k\", label=\"DFT\")\n",
    "ax2.scatter(test_distances_amptorch_dft_noforce[start:end], test_forces_amptorch_dft_noforce[start:end], marker=\"^\", s=60, c=\"tab:blue\", label=\"AMPtorch DFT\\n(without force)\")\n",
    "ax2.scatter(test_distances_amptorch_dmc[start:end], test_forces_amptorch_dmc[start:end], marker=\"d\", s=60, c=\"tab:red\", label=\"AMPtorch DMC\")\n",
    "ax2.yaxis.set_ticks_position(\"both\")\n",
    "ax2.xaxis.set_ticks_position(\"both\")\n",
    "useLargeSize(plt, ax)\n",
    "useLargeSize(plt, ax2)\n",
    "\n",
    "plt.savefig(\"./figures/c2_dmc_force_comparison_test.png\", dpi=300)\n",
    "plt.show()"
   ]
  }
 ],
 "metadata": {
  "kernelspec": {
   "display_name": "Python 3.9.12 ('base')",
   "language": "python",
   "name": "python3"
  },
  "language_info": {
   "codemirror_mode": {
    "name": "ipython",
    "version": 3
   },
   "file_extension": ".py",
   "mimetype": "text/x-python",
   "name": "python",
   "nbconvert_exporter": "python",
   "pygments_lexer": "ipython3",
   "version": "3.9.12"
  },
  "vscode": {
   "interpreter": {
    "hash": "c30f2af5f468e7f5b45bcc30fca5f4886c90d54777aed916ed5f6294dfb24bf2"
   }
  }
 },
 "nbformat": 4,
 "nbformat_minor": 5
}
